{
 "cells": [
  {
   "cell_type": "code",
   "execution_count": 1,
   "metadata": {},
   "outputs": [],
   "source": [
    "%matplotlib inline\n",
    "%reload_ext autoreload\n",
    "%autoreload 2"
   ]
  },
  {
   "cell_type": "code",
   "execution_count": 2,
   "metadata": {},
   "outputs": [],
   "source": [
    "from config import *\n",
    "from fastai import *\n",
    "from fastai.text import *\n",
    "import pandas as pd\n",
    "from sklearn.model_selection import train_test_split"
   ]
  },
  {
   "cell_type": "code",
   "execution_count": 3,
   "metadata": {},
   "outputs": [],
   "source": [
    "ulmfit_conf = ULMFiTConfig()\n",
    "DATA_PATH = ulmfit_conf.data_path\n",
    "PATH = ulmfit_conf.data_dir"
   ]
  },
  {
   "cell_type": "markdown",
   "metadata": {},
   "source": [
    "## Preparing Data for Model"
   ]
  },
  {
   "cell_type": "code",
   "execution_count": null,
   "metadata": {},
   "outputs": [],
   "source": [
    "data = pd.read_csv(DATA_PATH, encoding='utf-8', sep='\\t',\n",
    "                   names=['qid', 'query', 'passage', 'label', 'pid'])"
   ]
  },
  {
   "cell_type": "code",
   "execution_count": null,
   "metadata": {},
   "outputs": [],
   "source": [
    "pd.value_counts(data['label'])"
   ]
  },
  {
   "cell_type": "code",
   "execution_count": null,
   "metadata": {},
   "outputs": [],
   "source": []
  },
  {
   "cell_type": "code",
   "execution_count": 6,
   "metadata": {},
   "outputs": [],
   "source": [
    "train, test = train_test_split(data, random_state=ulmfit_conf.random_state,\n",
    "                              test_size=0.2, stratify=data['label'])"
   ]
  },
  {
   "cell_type": "code",
   "execution_count": null,
   "metadata": {},
   "outputs": [],
   "source": [
    "data = None"
   ]
  },
  {
   "cell_type": "code",
   "execution_count": 8,
   "metadata": {},
   "outputs": [
    {
     "data": {
      "text/plain": [
       "0    3774154\n",
       "1     419350\n",
       "Name: label, dtype: int64"
      ]
     },
     "execution_count": 8,
     "metadata": {},
     "output_type": "execute_result"
    }
   ],
   "source": [
    "pd.value_counts(train['label'])"
   ]
  },
  {
   "cell_type": "code",
   "execution_count": 9,
   "metadata": {},
   "outputs": [
    {
     "data": {
      "text/plain": [
       "0    943538\n",
       "1    104838\n",
       "Name: label, dtype: int64"
      ]
     },
     "execution_count": 9,
     "metadata": {},
     "output_type": "execute_result"
    }
   ],
   "source": [
    "pd.value_counts(test['label'])"
   ]
  },
  {
   "cell_type": "code",
   "execution_count": 10,
   "metadata": {},
   "outputs": [],
   "source": [
    "data_lm = TextLMDataBunch.from_df(path=ulmfit_conf.data_dir, \n",
    "                                  train_df=train, \n",
    "                                  valid_df=test, text_cols=['passage'])\n",
    "data_lm.save('train_lm_data')"
   ]
  },
  {
   "cell_type": "code",
   "execution_count": 4,
   "metadata": {},
   "outputs": [],
   "source": [
    "data_lm = TextLMDataBunch.load(ulmfit_conf.data_dir, 'train_lm_data', bs=ulmfit_conf.bs)"
   ]
  },
  {
   "cell_type": "code",
   "execution_count": 5,
   "metadata": {},
   "outputs": [],
   "source": [
    "learn = language_model_learner(data_lm, pretrained_model=URLs.WT103_1, drop_mult=0.3)"
   ]
  },
  {
   "cell_type": "code",
   "execution_count": 11,
   "metadata": {},
   "outputs": [
    {
     "name": "stdout",
     "output_type": "stream",
     "text": [
      "LR Finder is complete, type {learner_name}.recorder.plot() to see the graph.\n"
     ]
    }
   ],
   "source": [
    "learn.lr_find()"
   ]
  },
  {
   "cell_type": "code",
   "execution_count": 12,
   "metadata": {},
   "outputs": [
    {
     "data": {
      "image/png": "[encoded data removed]",
      "text/plain": [
       "<Figure size 432x288 with 1 Axes>"
      ]
     },
     "metadata": {},
     "output_type": "display_data"
    }
   ],
   "source": [
    "learn.recorder.plot()"
   ]
  },
  {
   "cell_type": "code",
   "execution_count": 13,
   "metadata": {},
   "outputs": [
    {
     "data": {
      "text/html": [
       "Total time: 00:10 <p><table style='width:300px; margin-bottom:10px'>\n",
       "  <tr>\n",
       "    <th>epoch</th>\n",
       "    <th>train_loss</th>\n",
       "    <th>valid_loss</th>\n",
       "    <th>accuracy</th>\n",
       "  </tr>\n",
       "  <tr>\n",
       "    <th>1</th>\n",
       "    <th>4.740376</th>\n",
       "    <th>4.143353</th>\n",
       "    <th>0.289738</th>\n",
       "  </tr>\n",
       "</table>\n"
      ],
      "text/plain": [
       "<IPython.core.display.HTML object>"
      ]
     },
     "metadata": {},
     "output_type": "display_data"
    }
   ],
   "source": [
    "learn.fit_one_cycle(1, 1e-1, moms=(0.8, 0.7))"
   ]
  },
  {
   "cell_type": "code",
   "execution_count": 14,
   "metadata": {},
   "outputs": [],
   "source": [
    "learn.save('fit_head_sample')"
   ]
  },
  {
   "cell_type": "code",
   "execution_count": 32,
   "metadata": {},
   "outputs": [
    {
     "data": {
      "text/plain": [
       "LanguageLearner(data=TextLMDataBunch;\n",
       "\n",
       "Train: LabelList\n",
       "y: LMLabel (1744 items)\n",
       "[Category 0, Category 0, Category 0, Category 0, Category 0]...\n",
       "Path: /media/saqib/ni/Projects/Microsoft/AI_Challenge_18/data\n",
       "x: LMTextList (1744 items)\n",
       "[Text xxbos xxfld 1 xxmaj about xxup rwa . xxmaj about xxup rwa ; xxmaj history ; xxmaj board of xxmaj xxunk ; xxmaj xxunk ; xxmaj community xxmaj involvement ; xxmaj xxunk ; xxmaj honor xxmaj roll xxmaj authors ; xxmaj published xxmaj authors ; xxmaj reader xxmaj statistics ; xxmaj romance xxmaj statistics ; xxmaj xxunk xxmaj xxunk ; xxmaj staff xxmaj xxunk ; xxmaj xxunk with xxup rwa ; xxmaj about xxmaj the xxmaj romance xxmaj genre . xxmaj the xxmaj romance xxmaj genre ; xxmaj romance xxmaj statistics ; xxmaj industry xxmaj statistics ; xxmaj author xxmaj websites ; xxmaj xxunk ; xxmaj xxunk of xxmaj fame ; xxmaj honor xxmaj roll, Text xxbos xxfld 1 xxmaj how much does an xxmaj asthma xxmaj inhaler cost ? xxmaj traditionally , an xxmaj albuterol inhaler would cost around $ 5 to $ 10 , making it xxunk to anyone who needed it . xxmaj the xxunk xxunk xxunk cost xxunk of $ 30 to $ 50 , and generic options are not available due to a ban by the xxup fda in 2008 . xxmaj the over - the - counter xxunk inhalers , which usually cost around $ 16 , are also banned by the xxup fda ., Text xxbos xxfld 1 xxmaj toys r xxmaj us finally seems ready to take the xxmaj web xxunk after learning that even in the world of toys , where so much is left to the xxunk , the shopping experience ca n't be . xxmaj xxunk the e xxmaj game : xxmaj six xxmaj rules xxmaj toys r xxmaj us xxmaj learned, Text xxbos xxfld 1 “ xxmaj did any of you show your parents how to use the xxmaj world xxmaj book xxmaj online xxmaj encyclopedia ? xxmaj what did you search for ? ” xxmaj hopefully , you will have some responses . xxmaj if not , proceed with the lesson . 2 . xxmaj lesson “ xxmaj how many of you use xxmaj google or xxmaj wikipedia to find things on the computer ? xxmaj well , i do too . xxmaj but sometimes those searches are so xxunk ! xxmaj let ’s find out why an encyclopedia search is a great search choice . ” xxmaj let ’s do a research experiment on xxunk . • xxmaj let ’s xxmaj google xxunk . xxmaj how many search results did we get ? xxmaj xxunk , that ’s too many for me !, Text xxbos xxfld 1 xxmaj this is n’t breaking news ; doctors know the holy trinity of obesity treatments — diet , exercise , and medication — xxunk work . xxmaj they know yo - yo dieting is linked to heart disease , insulin resistance , higher blood pressure , inflammation , and , xxunk , long - term weight gain . xxmaj still , they push the same ineffective treatments , xxunk they ’ll make you not just thinner but healthier .]...\n",
       "Path: /media/saqib/ni/Projects/Microsoft/AI_Challenge_18/data;\n",
       "\n",
       "Valid: LabelList\n",
       "y: LMLabel (437 items)\n",
       "[Category 0, Category 0, Category 0, Category 0, Category 0]...\n",
       "Path: /media/saqib/ni/Projects/Microsoft/AI_Challenge_18/data\n",
       "x: LMTextList (437 items)\n",
       "[Text xxbos xxfld 1 xxmaj pharisees definition , a member of a xxmaj xxunk xxunk that xxunk during the 1st century xxunk . and 1st century xxunk . and that xxunk from the xxmaj sadducees chiefly in its xxunk xxunk of religious xxunk and practices , xxunk to oral laws and xxunk , and belief in an xxunk and the coming of a xxmaj xxunk . xxmaj see more ., Text xxbos xxfld 1 xxmaj see also . 1 xxmaj childhood gender xxunk . 2 xxmaj xxunk on the xxmaj xxunk of xxmaj all xxmaj forms of xxmaj xxunk against xxmaj women . 3 xxmaj gender representation in video games . 4 xxmaj xxunk . 5 xxmaj xxunk . 6 xxmaj sex and gender xxunk . 7 xxmaj sociology of gender . 8 xxmaj western xxunk of the male xxunk xxunk ., Text xxbos xxfld 1 xxmaj the two main types of competition are : 1 xxunk competition , which happens between individuals of different species . 2 xxunk competition , which happens between individuals of the same species ., Text xxbos xxfld 1 xxmaj xxunk and his xxunk like to make up ridiculous stories about xxunk xxunk in xxunk xxunk . adjective xxmaj the definition of ridiculous is something that clearly ca n't be true , and that is so silly or xxunk as to be worth making fun of . xxmaj an example of ridiculous is the idea that the grass is xxunk and the sky is red . xxunk definition and usage example ., Text xxbos xxfld 1 xxmaj alkali metals react vigorously with water . xxmaj starting from sodium , they react xxunk to water , as hydrogen gas is produced in the process . xxmaj the xxunk even increases down the group . xxmaj the alkali metals basically react with water to form metal hydroxide and hydrogen gas . xxmaj hydrogen gas is extremely flammable , and from sodium xxunk the hydrogen gas produced will burn .]...\n",
       "Path: /media/saqib/ni/Projects/Microsoft/AI_Challenge_18/data;\n",
       "\n",
       "Test: None, model=SequentialRNN(\n",
       "  (0): RNNCore(\n",
       "    (encoder): Embedding(4300, 400, padding_idx=1)\n",
       "    (encoder_dp): EmbeddingDropout(\n",
       "      (emb): Embedding(4300, 400, padding_idx=1)\n",
       "    )\n",
       "    (rnns): ModuleList(\n",
       "      (0): WeightDropout(\n",
       "        (module): LSTM(400, 1150)\n",
       "      )\n",
       "      (1): WeightDropout(\n",
       "        (module): LSTM(1150, 1150)\n",
       "      )\n",
       "      (2): WeightDropout(\n",
       "        (module): LSTM(1150, 400)\n",
       "      )\n",
       "    )\n",
       "    (input_dp): RNNDropout()\n",
       "    (hidden_dps): ModuleList(\n",
       "      (0): RNNDropout()\n",
       "      (1): RNNDropout()\n",
       "      (2): RNNDropout()\n",
       "    )\n",
       "  )\n",
       "  (1): LinearDecoder(\n",
       "    (decoder): Linear(in_features=400, out_features=4300, bias=True)\n",
       "    (output_dp): RNNDropout()\n",
       "  )\n",
       "), opt_func=functools.partial(<class 'torch.optim.adam.Adam'>, betas=(0.9, 0.99)), loss_func=<fastai.layers.FlattenedLoss object at 0x7f331d07da90>, metrics=[<function accuracy at 0x7f33b886ac80>], true_wd=True, bn_wd=True, wd=0.01, train_bn=True, path=PosixPath('/media/saqib/ni/Projects/Microsoft/AI_Challenge_18/data'), model_dir='models', callback_fns=[<class 'fastai.basic_train.Recorder'>], callbacks=[RNNTrainer(learn=LanguageLearner(data=TextLMDataBunch;\n",
       "\n",
       "Train: LabelList\n",
       "y: LMLabel (1744 items)\n",
       "[Category 0, Category 0, Category 0, Category 0, Category 0]...\n",
       "Path: /media/saqib/ni/Projects/Microsoft/AI_Challenge_18/data\n",
       "x: LMTextList (1744 items)\n",
       "[Text xxbos xxfld 1 xxmaj about xxup rwa . xxmaj about xxup rwa ; xxmaj history ; xxmaj board of xxmaj xxunk ; xxmaj xxunk ; xxmaj community xxmaj involvement ; xxmaj xxunk ; xxmaj honor xxmaj roll xxmaj authors ; xxmaj published xxmaj authors ; xxmaj reader xxmaj statistics ; xxmaj romance xxmaj statistics ; xxmaj xxunk xxmaj xxunk ; xxmaj staff xxmaj xxunk ; xxmaj xxunk with xxup rwa ; xxmaj about xxmaj the xxmaj romance xxmaj genre . xxmaj the xxmaj romance xxmaj genre ; xxmaj romance xxmaj statistics ; xxmaj industry xxmaj statistics ; xxmaj author xxmaj websites ; xxmaj xxunk ; xxmaj xxunk of xxmaj fame ; xxmaj honor xxmaj roll, Text xxbos xxfld 1 xxmaj how much does an xxmaj asthma xxmaj inhaler cost ? xxmaj traditionally , an xxmaj albuterol inhaler would cost around $ 5 to $ 10 , making it xxunk to anyone who needed it . xxmaj the xxunk xxunk xxunk cost xxunk of $ 30 to $ 50 , and generic options are not available due to a ban by the xxup fda in 2008 . xxmaj the over - the - counter xxunk inhalers , which usually cost around $ 16 , are also banned by the xxup fda ., Text xxbos xxfld 1 xxmaj toys r xxmaj us finally seems ready to take the xxmaj web xxunk after learning that even in the world of toys , where so much is left to the xxunk , the shopping experience ca n't be . xxmaj xxunk the e xxmaj game : xxmaj six xxmaj rules xxmaj toys r xxmaj us xxmaj learned, Text xxbos xxfld 1 “ xxmaj did any of you show your parents how to use the xxmaj world xxmaj book xxmaj online xxmaj encyclopedia ? xxmaj what did you search for ? ” xxmaj hopefully , you will have some responses . xxmaj if not , proceed with the lesson . 2 . xxmaj lesson “ xxmaj how many of you use xxmaj google or xxmaj wikipedia to find things on the computer ? xxmaj well , i do too . xxmaj but sometimes those searches are so xxunk ! xxmaj let ’s find out why an encyclopedia search is a great search choice . ” xxmaj let ’s do a research experiment on xxunk . • xxmaj let ’s xxmaj google xxunk . xxmaj how many search results did we get ? xxmaj xxunk , that ’s too many for me !, Text xxbos xxfld 1 xxmaj this is n’t breaking news ; doctors know the holy trinity of obesity treatments — diet , exercise , and medication — xxunk work . xxmaj they know yo - yo dieting is linked to heart disease , insulin resistance , higher blood pressure , inflammation , and , xxunk , long - term weight gain . xxmaj still , they push the same ineffective treatments , xxunk they ’ll make you not just thinner but healthier .]...\n",
       "Path: /media/saqib/ni/Projects/Microsoft/AI_Challenge_18/data;\n",
       "\n",
       "Valid: LabelList\n",
       "y: LMLabel (437 items)\n",
       "[Category 0, Category 0, Category 0, Category 0, Category 0]...\n",
       "Path: /media/saqib/ni/Projects/Microsoft/AI_Challenge_18/data\n",
       "x: LMTextList (437 items)\n",
       "[Text xxbos xxfld 1 xxmaj pharisees definition , a member of a xxmaj xxunk xxunk that xxunk during the 1st century xxunk . and 1st century xxunk . and that xxunk from the xxmaj sadducees chiefly in its xxunk xxunk of religious xxunk and practices , xxunk to oral laws and xxunk , and belief in an xxunk and the coming of a xxmaj xxunk . xxmaj see more ., Text xxbos xxfld 1 xxmaj see also . 1 xxmaj childhood gender xxunk . 2 xxmaj xxunk on the xxmaj xxunk of xxmaj all xxmaj forms of xxmaj xxunk against xxmaj women . 3 xxmaj gender representation in video games . 4 xxmaj xxunk . 5 xxmaj xxunk . 6 xxmaj sex and gender xxunk . 7 xxmaj sociology of gender . 8 xxmaj western xxunk of the male xxunk xxunk ., Text xxbos xxfld 1 xxmaj the two main types of competition are : 1 xxunk competition , which happens between individuals of different species . 2 xxunk competition , which happens between individuals of the same species ., Text xxbos xxfld 1 xxmaj xxunk and his xxunk like to make up ridiculous stories about xxunk xxunk in xxunk xxunk . adjective xxmaj the definition of ridiculous is something that clearly ca n't be true , and that is so silly or xxunk as to be worth making fun of . xxmaj an example of ridiculous is the idea that the grass is xxunk and the sky is red . xxunk definition and usage example ., Text xxbos xxfld 1 xxmaj alkali metals react vigorously with water . xxmaj starting from sodium , they react xxunk to water , as hydrogen gas is produced in the process . xxmaj the xxunk even increases down the group . xxmaj the alkali metals basically react with water to form metal hydroxide and hydrogen gas . xxmaj hydrogen gas is extremely flammable , and from sodium xxunk the hydrogen gas produced will burn .]...\n",
       "Path: /media/saqib/ni/Projects/Microsoft/AI_Challenge_18/data;\n",
       "\n",
       "Test: None, model=SequentialRNN(\n",
       "  (0): RNNCore(\n",
       "    (encoder): Embedding(4300, 400, padding_idx=1)\n",
       "    (encoder_dp): EmbeddingDropout(\n",
       "      (emb): Embedding(4300, 400, padding_idx=1)\n",
       "    )\n",
       "    (rnns): ModuleList(\n",
       "      (0): WeightDropout(\n",
       "        (module): LSTM(400, 1150)\n",
       "      )\n",
       "      (1): WeightDropout(\n",
       "        (module): LSTM(1150, 1150)\n",
       "      )\n",
       "      (2): WeightDropout(\n",
       "        (module): LSTM(1150, 400)\n",
       "      )\n",
       "    )\n",
       "    (input_dp): RNNDropout()\n",
       "    (hidden_dps): ModuleList(\n",
       "      (0): RNNDropout()\n",
       "      (1): RNNDropout()\n",
       "      (2): RNNDropout()\n",
       "    )\n",
       "  )\n",
       "  (1): LinearDecoder(\n",
       "    (decoder): Linear(in_features=400, out_features=4300, bias=True)\n",
       "    (output_dp): RNNDropout()\n",
       "  )\n",
       "), opt_func=functools.partial(<class 'torch.optim.adam.Adam'>, betas=(0.9, 0.99)), loss_func=<fastai.layers.FlattenedLoss object at 0x7f331d07da90>, metrics=[<function accuracy at 0x7f33b886ac80>], true_wd=True, bn_wd=True, wd=0.01, train_bn=True, path=PosixPath('/media/saqib/ni/Projects/Microsoft/AI_Challenge_18/data'), model_dir='models', callback_fns=[<class 'fastai.basic_train.Recorder'>], callbacks=[...], layer_groups=[Sequential(\n",
       "  (0): WeightDropout(\n",
       "    (module): LSTM(400, 1150)\n",
       "  )\n",
       "  (1): RNNDropout()\n",
       "), Sequential(\n",
       "  (0): WeightDropout(\n",
       "    (module): LSTM(1150, 1150)\n",
       "  )\n",
       "  (1): RNNDropout()\n",
       "), Sequential(\n",
       "  (0): WeightDropout(\n",
       "    (module): LSTM(1150, 400)\n",
       "  )\n",
       "  (1): RNNDropout()\n",
       "), Sequential(\n",
       "  (0): Embedding(4300, 400, padding_idx=1)\n",
       "  (1): EmbeddingDropout(\n",
       "    (emb): Embedding(4300, 400, padding_idx=1)\n",
       "  )\n",
       "  (2): LinearDecoder(\n",
       "    (decoder): Linear(in_features=400, out_features=4300, bias=True)\n",
       "    (output_dp): RNNDropout()\n",
       "  )\n",
       ")]), bptt=70, alpha=2.0, beta=1.0, adjust=False)], layer_groups=[Sequential(\n",
       "  (0): WeightDropout(\n",
       "    (module): LSTM(400, 1150)\n",
       "  )\n",
       "  (1): RNNDropout()\n",
       "), Sequential(\n",
       "  (0): WeightDropout(\n",
       "    (module): LSTM(1150, 1150)\n",
       "  )\n",
       "  (1): RNNDropout()\n",
       "), Sequential(\n",
       "  (0): WeightDropout(\n",
       "    (module): LSTM(1150, 400)\n",
       "  )\n",
       "  (1): RNNDropout()\n",
       "), Sequential(\n",
       "  (0): Embedding(4300, 400, padding_idx=1)\n",
       "  (1): EmbeddingDropout(\n",
       "    (emb): Embedding(4300, 400, padding_idx=1)\n",
       "  )\n",
       "  (2): LinearDecoder(\n",
       "    (decoder): Linear(in_features=400, out_features=4300, bias=True)\n",
       "    (output_dp): RNNDropout()\n",
       "  )\n",
       ")])"
      ]
     },
     "execution_count": 32,
     "metadata": {},
     "output_type": "execute_result"
    }
   ],
   "source": [
    "learn.load('fit_head_sample')"
   ]
  },
  {
   "cell_type": "code",
   "execution_count": 34,
   "metadata": {},
   "outputs": [
    {
     "data": {
      "text/html": [
       "\n",
       "    <div>\n",
       "        <style>\n",
       "            /* Turns off some styling */\n",
       "            progress {\n",
       "                /* gets rid of default border in Firefox and Opera. */\n",
       "                border: none;\n",
       "                /* Needs to be in here for Safari polyfill so background images work as expected. */\n",
       "                background-size: auto;\n",
       "            }\n",
       "            .progress-bar-interrupted, .progress-bar-interrupted::-webkit-progress-bar {\n",
       "                background: #F44336;\n",
       "            }\n",
       "        </style>\n",
       "      <progress value='0' class='' max='10', style='width:300px; height:20px; vertical-align: middle;'></progress>\n",
       "      0.00% [0/10 00:00<00:00]\n",
       "    </div>\n",
       "    \n",
       "<table style='width:300px; margin-bottom:10px'>\n",
       "  <tr>\n",
       "    <th>epoch</th>\n",
       "    <th>train_loss</th>\n",
       "    <th>valid_loss</th>\n",
       "    <th>accuracy</th>\n",
       "  </tr>\n",
       "</table>\n",
       "\n",
       "\n",
       "    <div>\n",
       "        <style>\n",
       "            /* Turns off some styling */\n",
       "            progress {\n",
       "                /* gets rid of default border in Firefox and Opera. */\n",
       "                border: none;\n",
       "                /* Needs to be in here for Safari polyfill so background images work as expected. */\n",
       "                background-size: auto;\n",
       "            }\n",
       "            .progress-bar-interrupted, .progress-bar-interrupted::-webkit-progress-bar {\n",
       "                background: #F44336;\n",
       "            }\n",
       "        </style>\n",
       "      <progress value='0' class='progress-bar-interrupted' max='56', style='width:300px; height:20px; vertical-align: middle;'></progress>\n",
       "      Interrupted\n",
       "    </div>\n",
       "    "
      ],
      "text/plain": [
       "<IPython.core.display.HTML object>"
      ]
     },
     "metadata": {},
     "output_type": "display_data"
    },
    {
     "ename": "RuntimeError",
     "evalue": "Expected tensor for argument #1 'indices' to have scalar type Long; but got torch.cuda.HalfTensor instead (while checking arguments for embedding)",
     "output_type": "error",
     "traceback": [
      "\u001b[0;31m---------------------------------------------------------------------------\u001b[0m",
      "\u001b[0;31mRuntimeError\u001b[0m                              Traceback (most recent call last)",
      "\u001b[0;32m<ipython-input-34-505eb6761f9b>\u001b[0m in \u001b[0;36m<module>\u001b[0;34m()\u001b[0m\n\u001b[1;32m      1\u001b[0m \u001b[0mlearn\u001b[0m\u001b[0;34m.\u001b[0m\u001b[0munfreeze\u001b[0m\u001b[0;34m(\u001b[0m\u001b[0;34m)\u001b[0m\u001b[0;34m\u001b[0m\u001b[0m\n\u001b[0;32m----> 2\u001b[0;31m \u001b[0mlearn\u001b[0m\u001b[0;34m.\u001b[0m\u001b[0mfit_one_cycle\u001b[0m\u001b[0;34m(\u001b[0m\u001b[0;36m10\u001b[0m\u001b[0;34m,\u001b[0m \u001b[0;36m1e-2\u001b[0m\u001b[0;34m,\u001b[0m \u001b[0mmoms\u001b[0m\u001b[0;34m=\u001b[0m\u001b[0;34m(\u001b[0m\u001b[0;36m0.8\u001b[0m\u001b[0;34m,\u001b[0m \u001b[0;36m0.7\u001b[0m\u001b[0;34m)\u001b[0m\u001b[0;34m)\u001b[0m\u001b[0;34m\u001b[0m\u001b[0m\n\u001b[0m",
      "\u001b[0;32m/usr/local/lib/python3.6/site-packages/fastai/train.py\u001b[0m in \u001b[0;36mfit_one_cycle\u001b[0;34m(learn, cyc_len, max_lr, moms, div_factor, pct_start, wd, callbacks, **kwargs)\u001b[0m\n\u001b[1;32m     19\u001b[0m     callbacks.append(OneCycleScheduler(learn, max_lr, moms=moms, div_factor=div_factor,\n\u001b[1;32m     20\u001b[0m                                         pct_start=pct_start, **kwargs))\n\u001b[0;32m---> 21\u001b[0;31m     \u001b[0mlearn\u001b[0m\u001b[0;34m.\u001b[0m\u001b[0mfit\u001b[0m\u001b[0;34m(\u001b[0m\u001b[0mcyc_len\u001b[0m\u001b[0;34m,\u001b[0m \u001b[0mmax_lr\u001b[0m\u001b[0;34m,\u001b[0m \u001b[0mwd\u001b[0m\u001b[0;34m=\u001b[0m\u001b[0mwd\u001b[0m\u001b[0;34m,\u001b[0m \u001b[0mcallbacks\u001b[0m\u001b[0;34m=\u001b[0m\u001b[0mcallbacks\u001b[0m\u001b[0;34m)\u001b[0m\u001b[0;34m\u001b[0m\u001b[0m\n\u001b[0m\u001b[1;32m     22\u001b[0m \u001b[0;34m\u001b[0m\u001b[0m\n\u001b[1;32m     23\u001b[0m \u001b[0;32mdef\u001b[0m \u001b[0mlr_find\u001b[0m\u001b[0;34m(\u001b[0m\u001b[0mlearn\u001b[0m\u001b[0;34m:\u001b[0m\u001b[0mLearner\u001b[0m\u001b[0;34m,\u001b[0m \u001b[0mstart_lr\u001b[0m\u001b[0;34m:\u001b[0m\u001b[0mFloats\u001b[0m\u001b[0;34m=\u001b[0m\u001b[0;36m1e-7\u001b[0m\u001b[0;34m,\u001b[0m \u001b[0mend_lr\u001b[0m\u001b[0;34m:\u001b[0m\u001b[0mFloats\u001b[0m\u001b[0;34m=\u001b[0m\u001b[0;36m10\u001b[0m\u001b[0;34m,\u001b[0m \u001b[0mnum_it\u001b[0m\u001b[0;34m:\u001b[0m\u001b[0mint\u001b[0m\u001b[0;34m=\u001b[0m\u001b[0;36m100\u001b[0m\u001b[0;34m,\u001b[0m \u001b[0mstop_div\u001b[0m\u001b[0;34m:\u001b[0m\u001b[0mbool\u001b[0m\u001b[0;34m=\u001b[0m\u001b[0;32mTrue\u001b[0m\u001b[0;34m,\u001b[0m \u001b[0;34m**\u001b[0m\u001b[0mkwargs\u001b[0m\u001b[0;34m:\u001b[0m\u001b[0mAny\u001b[0m\u001b[0;34m)\u001b[0m\u001b[0;34m:\u001b[0m\u001b[0;34m\u001b[0m\u001b[0m\n",
      "\u001b[0;32m/usr/local/lib/python3.6/site-packages/fastai/basic_train.py\u001b[0m in \u001b[0;36mfit\u001b[0;34m(self, epochs, lr, wd, callbacks)\u001b[0m\n\u001b[1;32m    164\u001b[0m         \u001b[0mcallbacks\u001b[0m \u001b[0;34m=\u001b[0m \u001b[0;34m[\u001b[0m\u001b[0mcb\u001b[0m\u001b[0;34m(\u001b[0m\u001b[0mself\u001b[0m\u001b[0;34m)\u001b[0m \u001b[0;32mfor\u001b[0m \u001b[0mcb\u001b[0m \u001b[0;32min\u001b[0m \u001b[0mself\u001b[0m\u001b[0;34m.\u001b[0m\u001b[0mcallback_fns\u001b[0m\u001b[0;34m]\u001b[0m \u001b[0;34m+\u001b[0m \u001b[0mlistify\u001b[0m\u001b[0;34m(\u001b[0m\u001b[0mcallbacks\u001b[0m\u001b[0;34m)\u001b[0m\u001b[0;34m\u001b[0m\u001b[0m\n\u001b[1;32m    165\u001b[0m         fit(epochs, self.model, self.loss_func, opt=self.opt, data=self.data, metrics=self.metrics,\n\u001b[0;32m--> 166\u001b[0;31m             callbacks=self.callbacks+callbacks)\n\u001b[0m\u001b[1;32m    167\u001b[0m \u001b[0;34m\u001b[0m\u001b[0m\n\u001b[1;32m    168\u001b[0m     \u001b[0;32mdef\u001b[0m \u001b[0mcreate_opt\u001b[0m\u001b[0;34m(\u001b[0m\u001b[0mself\u001b[0m\u001b[0;34m,\u001b[0m \u001b[0mlr\u001b[0m\u001b[0;34m:\u001b[0m\u001b[0mFloats\u001b[0m\u001b[0;34m,\u001b[0m \u001b[0mwd\u001b[0m\u001b[0;34m:\u001b[0m\u001b[0mFloats\u001b[0m\u001b[0;34m=\u001b[0m\u001b[0;36m0.\u001b[0m\u001b[0;34m)\u001b[0m\u001b[0;34m->\u001b[0m\u001b[0;32mNone\u001b[0m\u001b[0;34m:\u001b[0m\u001b[0;34m\u001b[0m\u001b[0m\n",
      "\u001b[0;32m/usr/local/lib/python3.6/site-packages/fastai/basic_train.py\u001b[0m in \u001b[0;36mfit\u001b[0;34m(epochs, model, loss_func, opt, data, callbacks, metrics)\u001b[0m\n\u001b[1;32m     92\u001b[0m     \u001b[0;32mexcept\u001b[0m \u001b[0mException\u001b[0m \u001b[0;32mas\u001b[0m \u001b[0me\u001b[0m\u001b[0;34m:\u001b[0m\u001b[0;34m\u001b[0m\u001b[0m\n\u001b[1;32m     93\u001b[0m         \u001b[0mexception\u001b[0m \u001b[0;34m=\u001b[0m \u001b[0me\u001b[0m\u001b[0;34m\u001b[0m\u001b[0m\n\u001b[0;32m---> 94\u001b[0;31m         \u001b[0;32mraise\u001b[0m \u001b[0me\u001b[0m\u001b[0;34m\u001b[0m\u001b[0m\n\u001b[0m\u001b[1;32m     95\u001b[0m     \u001b[0;32mfinally\u001b[0m\u001b[0;34m:\u001b[0m \u001b[0mcb_handler\u001b[0m\u001b[0;34m.\u001b[0m\u001b[0mon_train_end\u001b[0m\u001b[0;34m(\u001b[0m\u001b[0mexception\u001b[0m\u001b[0;34m)\u001b[0m\u001b[0;34m\u001b[0m\u001b[0m\n\u001b[1;32m     96\u001b[0m \u001b[0;34m\u001b[0m\u001b[0m\n",
      "\u001b[0;32m/usr/local/lib/python3.6/site-packages/fastai/basic_train.py\u001b[0m in \u001b[0;36mfit\u001b[0;34m(epochs, model, loss_func, opt, data, callbacks, metrics)\u001b[0m\n\u001b[1;32m     82\u001b[0m             \u001b[0;32mfor\u001b[0m \u001b[0mxb\u001b[0m\u001b[0;34m,\u001b[0m\u001b[0myb\u001b[0m \u001b[0;32min\u001b[0m \u001b[0mprogress_bar\u001b[0m\u001b[0;34m(\u001b[0m\u001b[0mdata\u001b[0m\u001b[0;34m.\u001b[0m\u001b[0mtrain_dl\u001b[0m\u001b[0;34m,\u001b[0m \u001b[0mparent\u001b[0m\u001b[0;34m=\u001b[0m\u001b[0mpbar\u001b[0m\u001b[0;34m)\u001b[0m\u001b[0;34m:\u001b[0m\u001b[0;34m\u001b[0m\u001b[0m\n\u001b[1;32m     83\u001b[0m                 \u001b[0mxb\u001b[0m\u001b[0;34m,\u001b[0m \u001b[0myb\u001b[0m \u001b[0;34m=\u001b[0m \u001b[0mcb_handler\u001b[0m\u001b[0;34m.\u001b[0m\u001b[0mon_batch_begin\u001b[0m\u001b[0;34m(\u001b[0m\u001b[0mxb\u001b[0m\u001b[0;34m,\u001b[0m \u001b[0myb\u001b[0m\u001b[0;34m)\u001b[0m\u001b[0;34m\u001b[0m\u001b[0m\n\u001b[0;32m---> 84\u001b[0;31m                 \u001b[0mloss\u001b[0m \u001b[0;34m=\u001b[0m \u001b[0mloss_batch\u001b[0m\u001b[0;34m(\u001b[0m\u001b[0mmodel\u001b[0m\u001b[0;34m,\u001b[0m \u001b[0mxb\u001b[0m\u001b[0;34m,\u001b[0m \u001b[0myb\u001b[0m\u001b[0;34m,\u001b[0m \u001b[0mloss_func\u001b[0m\u001b[0;34m,\u001b[0m \u001b[0mopt\u001b[0m\u001b[0;34m,\u001b[0m \u001b[0mcb_handler\u001b[0m\u001b[0;34m)\u001b[0m\u001b[0;34m\u001b[0m\u001b[0m\n\u001b[0m\u001b[1;32m     85\u001b[0m                 \u001b[0;32mif\u001b[0m \u001b[0mcb_handler\u001b[0m\u001b[0;34m.\u001b[0m\u001b[0mon_batch_end\u001b[0m\u001b[0;34m(\u001b[0m\u001b[0mloss\u001b[0m\u001b[0;34m)\u001b[0m\u001b[0;34m:\u001b[0m \u001b[0;32mbreak\u001b[0m\u001b[0;34m\u001b[0m\u001b[0m\n\u001b[1;32m     86\u001b[0m \u001b[0;34m\u001b[0m\u001b[0m\n",
      "\u001b[0;32m/usr/local/lib/python3.6/site-packages/fastai/basic_train.py\u001b[0m in \u001b[0;36mloss_batch\u001b[0;34m(model, xb, yb, loss_func, opt, cb_handler)\u001b[0m\n\u001b[1;32m     16\u001b[0m     \u001b[0;32mif\u001b[0m \u001b[0;32mnot\u001b[0m \u001b[0mis_listy\u001b[0m\u001b[0;34m(\u001b[0m\u001b[0mxb\u001b[0m\u001b[0;34m)\u001b[0m\u001b[0;34m:\u001b[0m \u001b[0mxb\u001b[0m \u001b[0;34m=\u001b[0m \u001b[0;34m[\u001b[0m\u001b[0mxb\u001b[0m\u001b[0;34m]\u001b[0m\u001b[0;34m\u001b[0m\u001b[0m\n\u001b[1;32m     17\u001b[0m     \u001b[0;32mif\u001b[0m \u001b[0;32mnot\u001b[0m \u001b[0mis_listy\u001b[0m\u001b[0;34m(\u001b[0m\u001b[0myb\u001b[0m\u001b[0;34m)\u001b[0m\u001b[0;34m:\u001b[0m \u001b[0myb\u001b[0m \u001b[0;34m=\u001b[0m \u001b[0;34m[\u001b[0m\u001b[0myb\u001b[0m\u001b[0;34m]\u001b[0m\u001b[0;34m\u001b[0m\u001b[0m\n\u001b[0;32m---> 18\u001b[0;31m     \u001b[0mout\u001b[0m \u001b[0;34m=\u001b[0m \u001b[0mmodel\u001b[0m\u001b[0;34m(\u001b[0m\u001b[0;34m*\u001b[0m\u001b[0mxb\u001b[0m\u001b[0;34m)\u001b[0m\u001b[0;34m\u001b[0m\u001b[0m\n\u001b[0m\u001b[1;32m     19\u001b[0m     \u001b[0mout\u001b[0m \u001b[0;34m=\u001b[0m \u001b[0mcb_handler\u001b[0m\u001b[0;34m.\u001b[0m\u001b[0mon_loss_begin\u001b[0m\u001b[0;34m(\u001b[0m\u001b[0mout\u001b[0m\u001b[0;34m)\u001b[0m\u001b[0;34m\u001b[0m\u001b[0m\n\u001b[1;32m     20\u001b[0m \u001b[0;34m\u001b[0m\u001b[0m\n",
      "\u001b[0;32m/usr/local/lib/python3.6/site-packages/torch/nn/modules/module.py\u001b[0m in \u001b[0;36m__call__\u001b[0;34m(self, *input, **kwargs)\u001b[0m\n\u001b[1;32m    487\u001b[0m             \u001b[0mresult\u001b[0m \u001b[0;34m=\u001b[0m \u001b[0mself\u001b[0m\u001b[0;34m.\u001b[0m\u001b[0m_slow_forward\u001b[0m\u001b[0;34m(\u001b[0m\u001b[0;34m*\u001b[0m\u001b[0minput\u001b[0m\u001b[0;34m,\u001b[0m \u001b[0;34m**\u001b[0m\u001b[0mkwargs\u001b[0m\u001b[0;34m)\u001b[0m\u001b[0;34m\u001b[0m\u001b[0m\n\u001b[1;32m    488\u001b[0m         \u001b[0;32melse\u001b[0m\u001b[0;34m:\u001b[0m\u001b[0;34m\u001b[0m\u001b[0m\n\u001b[0;32m--> 489\u001b[0;31m             \u001b[0mresult\u001b[0m \u001b[0;34m=\u001b[0m \u001b[0mself\u001b[0m\u001b[0;34m.\u001b[0m\u001b[0mforward\u001b[0m\u001b[0;34m(\u001b[0m\u001b[0;34m*\u001b[0m\u001b[0minput\u001b[0m\u001b[0;34m,\u001b[0m \u001b[0;34m**\u001b[0m\u001b[0mkwargs\u001b[0m\u001b[0;34m)\u001b[0m\u001b[0;34m\u001b[0m\u001b[0m\n\u001b[0m\u001b[1;32m    490\u001b[0m         \u001b[0;32mfor\u001b[0m \u001b[0mhook\u001b[0m \u001b[0;32min\u001b[0m \u001b[0mself\u001b[0m\u001b[0;34m.\u001b[0m\u001b[0m_forward_hooks\u001b[0m\u001b[0;34m.\u001b[0m\u001b[0mvalues\u001b[0m\u001b[0;34m(\u001b[0m\u001b[0;34m)\u001b[0m\u001b[0;34m:\u001b[0m\u001b[0;34m\u001b[0m\u001b[0m\n\u001b[1;32m    491\u001b[0m             \u001b[0mhook_result\u001b[0m \u001b[0;34m=\u001b[0m \u001b[0mhook\u001b[0m\u001b[0;34m(\u001b[0m\u001b[0mself\u001b[0m\u001b[0;34m,\u001b[0m \u001b[0minput\u001b[0m\u001b[0;34m,\u001b[0m \u001b[0mresult\u001b[0m\u001b[0;34m)\u001b[0m\u001b[0;34m\u001b[0m\u001b[0m\n",
      "\u001b[0;32m/usr/local/lib/python3.6/site-packages/torch/nn/modules/container.py\u001b[0m in \u001b[0;36mforward\u001b[0;34m(self, input)\u001b[0m\n\u001b[1;32m     90\u001b[0m     \u001b[0;32mdef\u001b[0m \u001b[0mforward\u001b[0m\u001b[0;34m(\u001b[0m\u001b[0mself\u001b[0m\u001b[0;34m,\u001b[0m \u001b[0minput\u001b[0m\u001b[0;34m)\u001b[0m\u001b[0;34m:\u001b[0m\u001b[0;34m\u001b[0m\u001b[0m\n\u001b[1;32m     91\u001b[0m         \u001b[0;32mfor\u001b[0m \u001b[0mmodule\u001b[0m \u001b[0;32min\u001b[0m \u001b[0mself\u001b[0m\u001b[0;34m.\u001b[0m\u001b[0m_modules\u001b[0m\u001b[0;34m.\u001b[0m\u001b[0mvalues\u001b[0m\u001b[0;34m(\u001b[0m\u001b[0;34m)\u001b[0m\u001b[0;34m:\u001b[0m\u001b[0;34m\u001b[0m\u001b[0m\n\u001b[0;32m---> 92\u001b[0;31m             \u001b[0minput\u001b[0m \u001b[0;34m=\u001b[0m \u001b[0mmodule\u001b[0m\u001b[0;34m(\u001b[0m\u001b[0minput\u001b[0m\u001b[0;34m)\u001b[0m\u001b[0;34m\u001b[0m\u001b[0m\n\u001b[0m\u001b[1;32m     93\u001b[0m         \u001b[0;32mreturn\u001b[0m \u001b[0minput\u001b[0m\u001b[0;34m\u001b[0m\u001b[0m\n\u001b[1;32m     94\u001b[0m \u001b[0;34m\u001b[0m\u001b[0m\n",
      "\u001b[0;32m/usr/local/lib/python3.6/site-packages/torch/nn/modules/module.py\u001b[0m in \u001b[0;36m__call__\u001b[0;34m(self, *input, **kwargs)\u001b[0m\n\u001b[1;32m    487\u001b[0m             \u001b[0mresult\u001b[0m \u001b[0;34m=\u001b[0m \u001b[0mself\u001b[0m\u001b[0;34m.\u001b[0m\u001b[0m_slow_forward\u001b[0m\u001b[0;34m(\u001b[0m\u001b[0;34m*\u001b[0m\u001b[0minput\u001b[0m\u001b[0;34m,\u001b[0m \u001b[0;34m**\u001b[0m\u001b[0mkwargs\u001b[0m\u001b[0;34m)\u001b[0m\u001b[0;34m\u001b[0m\u001b[0m\n\u001b[1;32m    488\u001b[0m         \u001b[0;32melse\u001b[0m\u001b[0;34m:\u001b[0m\u001b[0;34m\u001b[0m\u001b[0m\n\u001b[0;32m--> 489\u001b[0;31m             \u001b[0mresult\u001b[0m \u001b[0;34m=\u001b[0m \u001b[0mself\u001b[0m\u001b[0;34m.\u001b[0m\u001b[0mforward\u001b[0m\u001b[0;34m(\u001b[0m\u001b[0;34m*\u001b[0m\u001b[0minput\u001b[0m\u001b[0;34m,\u001b[0m \u001b[0;34m**\u001b[0m\u001b[0mkwargs\u001b[0m\u001b[0;34m)\u001b[0m\u001b[0;34m\u001b[0m\u001b[0m\n\u001b[0m\u001b[1;32m    490\u001b[0m         \u001b[0;32mfor\u001b[0m \u001b[0mhook\u001b[0m \u001b[0;32min\u001b[0m \u001b[0mself\u001b[0m\u001b[0;34m.\u001b[0m\u001b[0m_forward_hooks\u001b[0m\u001b[0;34m.\u001b[0m\u001b[0mvalues\u001b[0m\u001b[0;34m(\u001b[0m\u001b[0;34m)\u001b[0m\u001b[0;34m:\u001b[0m\u001b[0;34m\u001b[0m\u001b[0m\n\u001b[1;32m    491\u001b[0m             \u001b[0mhook_result\u001b[0m \u001b[0;34m=\u001b[0m \u001b[0mhook\u001b[0m\u001b[0;34m(\u001b[0m\u001b[0mself\u001b[0m\u001b[0;34m,\u001b[0m \u001b[0minput\u001b[0m\u001b[0;34m,\u001b[0m \u001b[0mresult\u001b[0m\u001b[0;34m)\u001b[0m\u001b[0;34m\u001b[0m\u001b[0m\n",
      "\u001b[0;32m/usr/local/lib/python3.6/site-packages/fastai/text/models.py\u001b[0m in \u001b[0;36mforward\u001b[0;34m(self, input)\u001b[0m\n\u001b[1;32m    109\u001b[0m             \u001b[0mself\u001b[0m\u001b[0;34m.\u001b[0m\u001b[0mbs\u001b[0m\u001b[0;34m=\u001b[0m\u001b[0mbs\u001b[0m\u001b[0;34m\u001b[0m\u001b[0m\n\u001b[1;32m    110\u001b[0m             \u001b[0mself\u001b[0m\u001b[0;34m.\u001b[0m\u001b[0mreset\u001b[0m\u001b[0;34m(\u001b[0m\u001b[0;34m)\u001b[0m\u001b[0;34m\u001b[0m\u001b[0m\n\u001b[0;32m--> 111\u001b[0;31m         \u001b[0mraw_output\u001b[0m \u001b[0;34m=\u001b[0m \u001b[0mself\u001b[0m\u001b[0;34m.\u001b[0m\u001b[0minput_dp\u001b[0m\u001b[0;34m(\u001b[0m\u001b[0mself\u001b[0m\u001b[0;34m.\u001b[0m\u001b[0mencoder_dp\u001b[0m\u001b[0;34m(\u001b[0m\u001b[0minput\u001b[0m\u001b[0;34m)\u001b[0m\u001b[0;34m)\u001b[0m\u001b[0;34m\u001b[0m\u001b[0m\n\u001b[0m\u001b[1;32m    112\u001b[0m         \u001b[0mnew_hidden\u001b[0m\u001b[0;34m,\u001b[0m\u001b[0mraw_outputs\u001b[0m\u001b[0;34m,\u001b[0m\u001b[0moutputs\u001b[0m \u001b[0;34m=\u001b[0m \u001b[0;34m[\u001b[0m\u001b[0;34m]\u001b[0m\u001b[0;34m,\u001b[0m\u001b[0;34m[\u001b[0m\u001b[0;34m]\u001b[0m\u001b[0;34m,\u001b[0m\u001b[0;34m[\u001b[0m\u001b[0;34m]\u001b[0m\u001b[0;34m\u001b[0m\u001b[0m\n\u001b[1;32m    113\u001b[0m         \u001b[0;32mfor\u001b[0m \u001b[0ml\u001b[0m\u001b[0;34m,\u001b[0m \u001b[0;34m(\u001b[0m\u001b[0mrnn\u001b[0m\u001b[0;34m,\u001b[0m\u001b[0mhid_dp\u001b[0m\u001b[0;34m)\u001b[0m \u001b[0;32min\u001b[0m \u001b[0menumerate\u001b[0m\u001b[0;34m(\u001b[0m\u001b[0mzip\u001b[0m\u001b[0;34m(\u001b[0m\u001b[0mself\u001b[0m\u001b[0;34m.\u001b[0m\u001b[0mrnns\u001b[0m\u001b[0;34m,\u001b[0m \u001b[0mself\u001b[0m\u001b[0;34m.\u001b[0m\u001b[0mhidden_dps\u001b[0m\u001b[0;34m)\u001b[0m\u001b[0;34m)\u001b[0m\u001b[0;34m:\u001b[0m\u001b[0;34m\u001b[0m\u001b[0m\n",
      "\u001b[0;32m/usr/local/lib/python3.6/site-packages/torch/nn/modules/module.py\u001b[0m in \u001b[0;36m__call__\u001b[0;34m(self, *input, **kwargs)\u001b[0m\n\u001b[1;32m    487\u001b[0m             \u001b[0mresult\u001b[0m \u001b[0;34m=\u001b[0m \u001b[0mself\u001b[0m\u001b[0;34m.\u001b[0m\u001b[0m_slow_forward\u001b[0m\u001b[0;34m(\u001b[0m\u001b[0;34m*\u001b[0m\u001b[0minput\u001b[0m\u001b[0;34m,\u001b[0m \u001b[0;34m**\u001b[0m\u001b[0mkwargs\u001b[0m\u001b[0;34m)\u001b[0m\u001b[0;34m\u001b[0m\u001b[0m\n\u001b[1;32m    488\u001b[0m         \u001b[0;32melse\u001b[0m\u001b[0;34m:\u001b[0m\u001b[0;34m\u001b[0m\u001b[0m\n\u001b[0;32m--> 489\u001b[0;31m             \u001b[0mresult\u001b[0m \u001b[0;34m=\u001b[0m \u001b[0mself\u001b[0m\u001b[0;34m.\u001b[0m\u001b[0mforward\u001b[0m\u001b[0;34m(\u001b[0m\u001b[0;34m*\u001b[0m\u001b[0minput\u001b[0m\u001b[0;34m,\u001b[0m \u001b[0;34m**\u001b[0m\u001b[0mkwargs\u001b[0m\u001b[0;34m)\u001b[0m\u001b[0;34m\u001b[0m\u001b[0m\n\u001b[0m\u001b[1;32m    490\u001b[0m         \u001b[0;32mfor\u001b[0m \u001b[0mhook\u001b[0m \u001b[0;32min\u001b[0m \u001b[0mself\u001b[0m\u001b[0;34m.\u001b[0m\u001b[0m_forward_hooks\u001b[0m\u001b[0;34m.\u001b[0m\u001b[0mvalues\u001b[0m\u001b[0;34m(\u001b[0m\u001b[0;34m)\u001b[0m\u001b[0;34m:\u001b[0m\u001b[0;34m\u001b[0m\u001b[0m\n\u001b[1;32m    491\u001b[0m             \u001b[0mhook_result\u001b[0m \u001b[0;34m=\u001b[0m \u001b[0mhook\u001b[0m\u001b[0;34m(\u001b[0m\u001b[0mself\u001b[0m\u001b[0;34m,\u001b[0m \u001b[0minput\u001b[0m\u001b[0;34m,\u001b[0m \u001b[0mresult\u001b[0m\u001b[0;34m)\u001b[0m\u001b[0;34m\u001b[0m\u001b[0m\n",
      "\u001b[0;32m/usr/local/lib/python3.6/site-packages/fastai/text/models.py\u001b[0m in \u001b[0;36mforward\u001b[0;34m(self, words, scale)\u001b[0m\n\u001b[1;32m     69\u001b[0m         \u001b[0;32mif\u001b[0m \u001b[0mscale\u001b[0m\u001b[0;34m:\u001b[0m \u001b[0mmasked_embed\u001b[0m\u001b[0;34m.\u001b[0m\u001b[0mmul_\u001b[0m\u001b[0;34m(\u001b[0m\u001b[0mscale\u001b[0m\u001b[0;34m)\u001b[0m\u001b[0;34m\u001b[0m\u001b[0m\n\u001b[1;32m     70\u001b[0m         return F.embedding(words, masked_embed, self.pad_idx, self.emb.max_norm,\n\u001b[0;32m---> 71\u001b[0;31m                            self.emb.norm_type, self.emb.scale_grad_by_freq, self.emb.sparse)\n\u001b[0m\u001b[1;32m     72\u001b[0m \u001b[0;34m\u001b[0m\u001b[0m\n\u001b[1;32m     73\u001b[0m \u001b[0;31m#def _repackage_var(h:Tensors)->Tensors:\u001b[0m\u001b[0;34m\u001b[0m\u001b[0;34m\u001b[0m\u001b[0m\n",
      "\u001b[0;32m/usr/local/lib/python3.6/site-packages/torch/nn/functional.py\u001b[0m in \u001b[0;36membedding\u001b[0;34m(input, weight, padding_idx, max_norm, norm_type, scale_grad_by_freq, sparse)\u001b[0m\n\u001b[1;32m   1452\u001b[0m         \u001b[0;31m# remove once script supports set_grad_enabled\u001b[0m\u001b[0;34m\u001b[0m\u001b[0;34m\u001b[0m\u001b[0m\n\u001b[1;32m   1453\u001b[0m         \u001b[0m_no_grad_embedding_renorm_\u001b[0m\u001b[0;34m(\u001b[0m\u001b[0mweight\u001b[0m\u001b[0;34m,\u001b[0m \u001b[0minput\u001b[0m\u001b[0;34m,\u001b[0m \u001b[0mmax_norm\u001b[0m\u001b[0;34m,\u001b[0m \u001b[0mnorm_type\u001b[0m\u001b[0;34m)\u001b[0m\u001b[0;34m\u001b[0m\u001b[0m\n\u001b[0;32m-> 1454\u001b[0;31m     \u001b[0;32mreturn\u001b[0m \u001b[0mtorch\u001b[0m\u001b[0;34m.\u001b[0m\u001b[0membedding\u001b[0m\u001b[0;34m(\u001b[0m\u001b[0mweight\u001b[0m\u001b[0;34m,\u001b[0m \u001b[0minput\u001b[0m\u001b[0;34m,\u001b[0m \u001b[0mpadding_idx\u001b[0m\u001b[0;34m,\u001b[0m \u001b[0mscale_grad_by_freq\u001b[0m\u001b[0;34m,\u001b[0m \u001b[0msparse\u001b[0m\u001b[0;34m)\u001b[0m\u001b[0;34m\u001b[0m\u001b[0m\n\u001b[0m\u001b[1;32m   1455\u001b[0m \u001b[0;34m\u001b[0m\u001b[0m\n\u001b[1;32m   1456\u001b[0m \u001b[0;34m\u001b[0m\u001b[0m\n",
      "\u001b[0;31mRuntimeError\u001b[0m: Expected tensor for argument #1 'indices' to have scalar type Long; but got torch.cuda.HalfTensor instead (while checking arguments for embedding)"
     ]
    }
   ],
   "source": [
    "learn.unfreeze()\n",
    "learn.fit_one_cycle(10, 1e-2, moms=(0.8, 0.7))"
   ]
  },
  {
   "cell_type": "code",
   "execution_count": 19,
   "metadata": {},
   "outputs": [],
   "source": [
    "learn.save_encoder('sample_encoder')"
   ]
  },
  {
   "cell_type": "code",
   "execution_count": 33,
   "metadata": {},
   "outputs": [
    {
     "data": {
      "text/plain": [
       "LanguageLearner(data=TextLMDataBunch;\n",
       "\n",
       "Train: LabelList\n",
       "y: LMLabel (1744 items)\n",
       "[Category 0, Category 0, Category 0, Category 0, Category 0]...\n",
       "Path: /media/saqib/ni/Projects/Microsoft/AI_Challenge_18/data\n",
       "x: LMTextList (1744 items)\n",
       "[Text xxbos xxfld 1 xxmaj about xxup rwa . xxmaj about xxup rwa ; xxmaj history ; xxmaj board of xxmaj xxunk ; xxmaj xxunk ; xxmaj community xxmaj involvement ; xxmaj xxunk ; xxmaj honor xxmaj roll xxmaj authors ; xxmaj published xxmaj authors ; xxmaj reader xxmaj statistics ; xxmaj romance xxmaj statistics ; xxmaj xxunk xxmaj xxunk ; xxmaj staff xxmaj xxunk ; xxmaj xxunk with xxup rwa ; xxmaj about xxmaj the xxmaj romance xxmaj genre . xxmaj the xxmaj romance xxmaj genre ; xxmaj romance xxmaj statistics ; xxmaj industry xxmaj statistics ; xxmaj author xxmaj websites ; xxmaj xxunk ; xxmaj xxunk of xxmaj fame ; xxmaj honor xxmaj roll, Text xxbos xxfld 1 xxmaj how much does an xxmaj asthma xxmaj inhaler cost ? xxmaj traditionally , an xxmaj albuterol inhaler would cost around $ 5 to $ 10 , making it xxunk to anyone who needed it . xxmaj the xxunk xxunk xxunk cost xxunk of $ 30 to $ 50 , and generic options are not available due to a ban by the xxup fda in 2008 . xxmaj the over - the - counter xxunk inhalers , which usually cost around $ 16 , are also banned by the xxup fda ., Text xxbos xxfld 1 xxmaj toys r xxmaj us finally seems ready to take the xxmaj web xxunk after learning that even in the world of toys , where so much is left to the xxunk , the shopping experience ca n't be . xxmaj xxunk the e xxmaj game : xxmaj six xxmaj rules xxmaj toys r xxmaj us xxmaj learned, Text xxbos xxfld 1 “ xxmaj did any of you show your parents how to use the xxmaj world xxmaj book xxmaj online xxmaj encyclopedia ? xxmaj what did you search for ? ” xxmaj hopefully , you will have some responses . xxmaj if not , proceed with the lesson . 2 . xxmaj lesson “ xxmaj how many of you use xxmaj google or xxmaj wikipedia to find things on the computer ? xxmaj well , i do too . xxmaj but sometimes those searches are so xxunk ! xxmaj let ’s find out why an encyclopedia search is a great search choice . ” xxmaj let ’s do a research experiment on xxunk . • xxmaj let ’s xxmaj google xxunk . xxmaj how many search results did we get ? xxmaj xxunk , that ’s too many for me !, Text xxbos xxfld 1 xxmaj this is n’t breaking news ; doctors know the holy trinity of obesity treatments — diet , exercise , and medication — xxunk work . xxmaj they know yo - yo dieting is linked to heart disease , insulin resistance , higher blood pressure , inflammation , and , xxunk , long - term weight gain . xxmaj still , they push the same ineffective treatments , xxunk they ’ll make you not just thinner but healthier .]...\n",
       "Path: /media/saqib/ni/Projects/Microsoft/AI_Challenge_18/data;\n",
       "\n",
       "Valid: LabelList\n",
       "y: LMLabel (437 items)\n",
       "[Category 0, Category 0, Category 0, Category 0, Category 0]...\n",
       "Path: /media/saqib/ni/Projects/Microsoft/AI_Challenge_18/data\n",
       "x: LMTextList (437 items)\n",
       "[Text xxbos xxfld 1 xxmaj pharisees definition , a member of a xxmaj xxunk xxunk that xxunk during the 1st century xxunk . and 1st century xxunk . and that xxunk from the xxmaj sadducees chiefly in its xxunk xxunk of religious xxunk and practices , xxunk to oral laws and xxunk , and belief in an xxunk and the coming of a xxmaj xxunk . xxmaj see more ., Text xxbos xxfld 1 xxmaj see also . 1 xxmaj childhood gender xxunk . 2 xxmaj xxunk on the xxmaj xxunk of xxmaj all xxmaj forms of xxmaj xxunk against xxmaj women . 3 xxmaj gender representation in video games . 4 xxmaj xxunk . 5 xxmaj xxunk . 6 xxmaj sex and gender xxunk . 7 xxmaj sociology of gender . 8 xxmaj western xxunk of the male xxunk xxunk ., Text xxbos xxfld 1 xxmaj the two main types of competition are : 1 xxunk competition , which happens between individuals of different species . 2 xxunk competition , which happens between individuals of the same species ., Text xxbos xxfld 1 xxmaj xxunk and his xxunk like to make up ridiculous stories about xxunk xxunk in xxunk xxunk . adjective xxmaj the definition of ridiculous is something that clearly ca n't be true , and that is so silly or xxunk as to be worth making fun of . xxmaj an example of ridiculous is the idea that the grass is xxunk and the sky is red . xxunk definition and usage example ., Text xxbos xxfld 1 xxmaj alkali metals react vigorously with water . xxmaj starting from sodium , they react xxunk to water , as hydrogen gas is produced in the process . xxmaj the xxunk even increases down the group . xxmaj the alkali metals basically react with water to form metal hydroxide and hydrogen gas . xxmaj hydrogen gas is extremely flammable , and from sodium xxunk the hydrogen gas produced will burn .]...\n",
       "Path: /media/saqib/ni/Projects/Microsoft/AI_Challenge_18/data;\n",
       "\n",
       "Test: None, model=SequentialRNN(\n",
       "  (0): RNNCore(\n",
       "    (encoder): Embedding(4300, 400, padding_idx=1)\n",
       "    (encoder_dp): EmbeddingDropout(\n",
       "      (emb): Embedding(4300, 400, padding_idx=1)\n",
       "    )\n",
       "    (rnns): ModuleList(\n",
       "      (0): WeightDropout(\n",
       "        (module): LSTM(400, 1150)\n",
       "      )\n",
       "      (1): WeightDropout(\n",
       "        (module): LSTM(1150, 1150)\n",
       "      )\n",
       "      (2): WeightDropout(\n",
       "        (module): LSTM(1150, 400)\n",
       "      )\n",
       "    )\n",
       "    (input_dp): RNNDropout()\n",
       "    (hidden_dps): ModuleList(\n",
       "      (0): RNNDropout()\n",
       "      (1): RNNDropout()\n",
       "      (2): RNNDropout()\n",
       "    )\n",
       "  )\n",
       "  (1): LinearDecoder(\n",
       "    (decoder): Linear(in_features=400, out_features=4300, bias=True)\n",
       "    (output_dp): RNNDropout()\n",
       "  )\n",
       "), opt_func=functools.partial(<class 'torch.optim.adam.Adam'>, betas=(0.9, 0.99)), loss_func=<fastai.layers.FlattenedLoss object at 0x7f331d07da90>, metrics=[<function accuracy at 0x7f33b886ac80>], true_wd=True, bn_wd=True, wd=0.01, train_bn=True, path=PosixPath('/media/saqib/ni/Projects/Microsoft/AI_Challenge_18/data'), model_dir='models', callback_fns=[<class 'fastai.basic_train.Recorder'>], callbacks=[RNNTrainer(learn=LanguageLearner(data=TextLMDataBunch;\n",
       "\n",
       "Train: LabelList\n",
       "y: LMLabel (1744 items)\n",
       "[Category 0, Category 0, Category 0, Category 0, Category 0]...\n",
       "Path: /media/saqib/ni/Projects/Microsoft/AI_Challenge_18/data\n",
       "x: LMTextList (1744 items)\n",
       "[Text xxbos xxfld 1 xxmaj about xxup rwa . xxmaj about xxup rwa ; xxmaj history ; xxmaj board of xxmaj xxunk ; xxmaj xxunk ; xxmaj community xxmaj involvement ; xxmaj xxunk ; xxmaj honor xxmaj roll xxmaj authors ; xxmaj published xxmaj authors ; xxmaj reader xxmaj statistics ; xxmaj romance xxmaj statistics ; xxmaj xxunk xxmaj xxunk ; xxmaj staff xxmaj xxunk ; xxmaj xxunk with xxup rwa ; xxmaj about xxmaj the xxmaj romance xxmaj genre . xxmaj the xxmaj romance xxmaj genre ; xxmaj romance xxmaj statistics ; xxmaj industry xxmaj statistics ; xxmaj author xxmaj websites ; xxmaj xxunk ; xxmaj xxunk of xxmaj fame ; xxmaj honor xxmaj roll, Text xxbos xxfld 1 xxmaj how much does an xxmaj asthma xxmaj inhaler cost ? xxmaj traditionally , an xxmaj albuterol inhaler would cost around $ 5 to $ 10 , making it xxunk to anyone who needed it . xxmaj the xxunk xxunk xxunk cost xxunk of $ 30 to $ 50 , and generic options are not available due to a ban by the xxup fda in 2008 . xxmaj the over - the - counter xxunk inhalers , which usually cost around $ 16 , are also banned by the xxup fda ., Text xxbos xxfld 1 xxmaj toys r xxmaj us finally seems ready to take the xxmaj web xxunk after learning that even in the world of toys , where so much is left to the xxunk , the shopping experience ca n't be . xxmaj xxunk the e xxmaj game : xxmaj six xxmaj rules xxmaj toys r xxmaj us xxmaj learned, Text xxbos xxfld 1 “ xxmaj did any of you show your parents how to use the xxmaj world xxmaj book xxmaj online xxmaj encyclopedia ? xxmaj what did you search for ? ” xxmaj hopefully , you will have some responses . xxmaj if not , proceed with the lesson . 2 . xxmaj lesson “ xxmaj how many of you use xxmaj google or xxmaj wikipedia to find things on the computer ? xxmaj well , i do too . xxmaj but sometimes those searches are so xxunk ! xxmaj let ’s find out why an encyclopedia search is a great search choice . ” xxmaj let ’s do a research experiment on xxunk . • xxmaj let ’s xxmaj google xxunk . xxmaj how many search results did we get ? xxmaj xxunk , that ’s too many for me !, Text xxbos xxfld 1 xxmaj this is n’t breaking news ; doctors know the holy trinity of obesity treatments — diet , exercise , and medication — xxunk work . xxmaj they know yo - yo dieting is linked to heart disease , insulin resistance , higher blood pressure , inflammation , and , xxunk , long - term weight gain . xxmaj still , they push the same ineffective treatments , xxunk they ’ll make you not just thinner but healthier .]...\n",
       "Path: /media/saqib/ni/Projects/Microsoft/AI_Challenge_18/data;\n",
       "\n",
       "Valid: LabelList\n",
       "y: LMLabel (437 items)\n",
       "[Category 0, Category 0, Category 0, Category 0, Category 0]...\n",
       "Path: /media/saqib/ni/Projects/Microsoft/AI_Challenge_18/data\n",
       "x: LMTextList (437 items)\n",
       "[Text xxbos xxfld 1 xxmaj pharisees definition , a member of a xxmaj xxunk xxunk that xxunk during the 1st century xxunk . and 1st century xxunk . and that xxunk from the xxmaj sadducees chiefly in its xxunk xxunk of religious xxunk and practices , xxunk to oral laws and xxunk , and belief in an xxunk and the coming of a xxmaj xxunk . xxmaj see more ., Text xxbos xxfld 1 xxmaj see also . 1 xxmaj childhood gender xxunk . 2 xxmaj xxunk on the xxmaj xxunk of xxmaj all xxmaj forms of xxmaj xxunk against xxmaj women . 3 xxmaj gender representation in video games . 4 xxmaj xxunk . 5 xxmaj xxunk . 6 xxmaj sex and gender xxunk . 7 xxmaj sociology of gender . 8 xxmaj western xxunk of the male xxunk xxunk ., Text xxbos xxfld 1 xxmaj the two main types of competition are : 1 xxunk competition , which happens between individuals of different species . 2 xxunk competition , which happens between individuals of the same species ., Text xxbos xxfld 1 xxmaj xxunk and his xxunk like to make up ridiculous stories about xxunk xxunk in xxunk xxunk . adjective xxmaj the definition of ridiculous is something that clearly ca n't be true , and that is so silly or xxunk as to be worth making fun of . xxmaj an example of ridiculous is the idea that the grass is xxunk and the sky is red . xxunk definition and usage example ., Text xxbos xxfld 1 xxmaj alkali metals react vigorously with water . xxmaj starting from sodium , they react xxunk to water , as hydrogen gas is produced in the process . xxmaj the xxunk even increases down the group . xxmaj the alkali metals basically react with water to form metal hydroxide and hydrogen gas . xxmaj hydrogen gas is extremely flammable , and from sodium xxunk the hydrogen gas produced will burn .]...\n",
       "Path: /media/saqib/ni/Projects/Microsoft/AI_Challenge_18/data;\n",
       "\n",
       "Test: None, model=SequentialRNN(\n",
       "  (0): RNNCore(\n",
       "    (encoder): Embedding(4300, 400, padding_idx=1)\n",
       "    (encoder_dp): EmbeddingDropout(\n",
       "      (emb): Embedding(4300, 400, padding_idx=1)\n",
       "    )\n",
       "    (rnns): ModuleList(\n",
       "      (0): WeightDropout(\n",
       "        (module): LSTM(400, 1150)\n",
       "      )\n",
       "      (1): WeightDropout(\n",
       "        (module): LSTM(1150, 1150)\n",
       "      )\n",
       "      (2): WeightDropout(\n",
       "        (module): LSTM(1150, 400)\n",
       "      )\n",
       "    )\n",
       "    (input_dp): RNNDropout()\n",
       "    (hidden_dps): ModuleList(\n",
       "      (0): RNNDropout()\n",
       "      (1): RNNDropout()\n",
       "      (2): RNNDropout()\n",
       "    )\n",
       "  )\n",
       "  (1): LinearDecoder(\n",
       "    (decoder): Linear(in_features=400, out_features=4300, bias=True)\n",
       "    (output_dp): RNNDropout()\n",
       "  )\n",
       "), opt_func=functools.partial(<class 'torch.optim.adam.Adam'>, betas=(0.9, 0.99)), loss_func=<fastai.layers.FlattenedLoss object at 0x7f331d07da90>, metrics=[<function accuracy at 0x7f33b886ac80>], true_wd=True, bn_wd=True, wd=0.01, train_bn=True, path=PosixPath('/media/saqib/ni/Projects/Microsoft/AI_Challenge_18/data'), model_dir='models', callback_fns=[<class 'fastai.basic_train.Recorder'>], callbacks=[...], layer_groups=[Sequential(\n",
       "  (0): WeightDropout(\n",
       "    (module): LSTM(400, 1150)\n",
       "  )\n",
       "  (1): RNNDropout()\n",
       "), Sequential(\n",
       "  (0): WeightDropout(\n",
       "    (module): LSTM(1150, 1150)\n",
       "  )\n",
       "  (1): RNNDropout()\n",
       "), Sequential(\n",
       "  (0): WeightDropout(\n",
       "    (module): LSTM(1150, 400)\n",
       "  )\n",
       "  (1): RNNDropout()\n",
       "), Sequential(\n",
       "  (0): Embedding(4300, 400, padding_idx=1)\n",
       "  (1): EmbeddingDropout(\n",
       "    (emb): Embedding(4300, 400, padding_idx=1)\n",
       "  )\n",
       "  (2): LinearDecoder(\n",
       "    (decoder): Linear(in_features=400, out_features=4300, bias=True)\n",
       "    (output_dp): RNNDropout()\n",
       "  )\n",
       ")]), bptt=70, alpha=2.0, beta=1.0, adjust=False), MixedPrecision(learn=LanguageLearner(data=TextLMDataBunch;\n",
       "\n",
       "Train: LabelList\n",
       "y: LMLabel (1744 items)\n",
       "[Category 0, Category 0, Category 0, Category 0, Category 0]...\n",
       "Path: /media/saqib/ni/Projects/Microsoft/AI_Challenge_18/data\n",
       "x: LMTextList (1744 items)\n",
       "[Text xxbos xxfld 1 xxmaj about xxup rwa . xxmaj about xxup rwa ; xxmaj history ; xxmaj board of xxmaj xxunk ; xxmaj xxunk ; xxmaj community xxmaj involvement ; xxmaj xxunk ; xxmaj honor xxmaj roll xxmaj authors ; xxmaj published xxmaj authors ; xxmaj reader xxmaj statistics ; xxmaj romance xxmaj statistics ; xxmaj xxunk xxmaj xxunk ; xxmaj staff xxmaj xxunk ; xxmaj xxunk with xxup rwa ; xxmaj about xxmaj the xxmaj romance xxmaj genre . xxmaj the xxmaj romance xxmaj genre ; xxmaj romance xxmaj statistics ; xxmaj industry xxmaj statistics ; xxmaj author xxmaj websites ; xxmaj xxunk ; xxmaj xxunk of xxmaj fame ; xxmaj honor xxmaj roll, Text xxbos xxfld 1 xxmaj how much does an xxmaj asthma xxmaj inhaler cost ? xxmaj traditionally , an xxmaj albuterol inhaler would cost around $ 5 to $ 10 , making it xxunk to anyone who needed it . xxmaj the xxunk xxunk xxunk cost xxunk of $ 30 to $ 50 , and generic options are not available due to a ban by the xxup fda in 2008 . xxmaj the over - the - counter xxunk inhalers , which usually cost around $ 16 , are also banned by the xxup fda ., Text xxbos xxfld 1 xxmaj toys r xxmaj us finally seems ready to take the xxmaj web xxunk after learning that even in the world of toys , where so much is left to the xxunk , the shopping experience ca n't be . xxmaj xxunk the e xxmaj game : xxmaj six xxmaj rules xxmaj toys r xxmaj us xxmaj learned, Text xxbos xxfld 1 “ xxmaj did any of you show your parents how to use the xxmaj world xxmaj book xxmaj online xxmaj encyclopedia ? xxmaj what did you search for ? ” xxmaj hopefully , you will have some responses . xxmaj if not , proceed with the lesson . 2 . xxmaj lesson “ xxmaj how many of you use xxmaj google or xxmaj wikipedia to find things on the computer ? xxmaj well , i do too . xxmaj but sometimes those searches are so xxunk ! xxmaj let ’s find out why an encyclopedia search is a great search choice . ” xxmaj let ’s do a research experiment on xxunk . • xxmaj let ’s xxmaj google xxunk . xxmaj how many search results did we get ? xxmaj xxunk , that ’s too many for me !, Text xxbos xxfld 1 xxmaj this is n’t breaking news ; doctors know the holy trinity of obesity treatments — diet , exercise , and medication — xxunk work . xxmaj they know yo - yo dieting is linked to heart disease , insulin resistance , higher blood pressure , inflammation , and , xxunk , long - term weight gain . xxmaj still , they push the same ineffective treatments , xxunk they ’ll make you not just thinner but healthier .]...\n",
       "Path: /media/saqib/ni/Projects/Microsoft/AI_Challenge_18/data;\n",
       "\n",
       "Valid: LabelList\n",
       "y: LMLabel (437 items)\n",
       "[Category 0, Category 0, Category 0, Category 0, Category 0]...\n",
       "Path: /media/saqib/ni/Projects/Microsoft/AI_Challenge_18/data\n",
       "x: LMTextList (437 items)\n",
       "[Text xxbos xxfld 1 xxmaj pharisees definition , a member of a xxmaj xxunk xxunk that xxunk during the 1st century xxunk . and 1st century xxunk . and that xxunk from the xxmaj sadducees chiefly in its xxunk xxunk of religious xxunk and practices , xxunk to oral laws and xxunk , and belief in an xxunk and the coming of a xxmaj xxunk . xxmaj see more ., Text xxbos xxfld 1 xxmaj see also . 1 xxmaj childhood gender xxunk . 2 xxmaj xxunk on the xxmaj xxunk of xxmaj all xxmaj forms of xxmaj xxunk against xxmaj women . 3 xxmaj gender representation in video games . 4 xxmaj xxunk . 5 xxmaj xxunk . 6 xxmaj sex and gender xxunk . 7 xxmaj sociology of gender . 8 xxmaj western xxunk of the male xxunk xxunk ., Text xxbos xxfld 1 xxmaj the two main types of competition are : 1 xxunk competition , which happens between individuals of different species . 2 xxunk competition , which happens between individuals of the same species ., Text xxbos xxfld 1 xxmaj xxunk and his xxunk like to make up ridiculous stories about xxunk xxunk in xxunk xxunk . adjective xxmaj the definition of ridiculous is something that clearly ca n't be true , and that is so silly or xxunk as to be worth making fun of . xxmaj an example of ridiculous is the idea that the grass is xxunk and the sky is red . xxunk definition and usage example ., Text xxbos xxfld 1 xxmaj alkali metals react vigorously with water . xxmaj starting from sodium , they react xxunk to water , as hydrogen gas is produced in the process . xxmaj the xxunk even increases down the group . xxmaj the alkali metals basically react with water to form metal hydroxide and hydrogen gas . xxmaj hydrogen gas is extremely flammable , and from sodium xxunk the hydrogen gas produced will burn .]...\n",
       "Path: /media/saqib/ni/Projects/Microsoft/AI_Challenge_18/data;\n",
       "\n",
       "Test: None, model=SequentialRNN(\n",
       "  (0): RNNCore(\n",
       "    (encoder): Embedding(4300, 400, padding_idx=1)\n",
       "    (encoder_dp): EmbeddingDropout(\n",
       "      (emb): Embedding(4300, 400, padding_idx=1)\n",
       "    )\n",
       "    (rnns): ModuleList(\n",
       "      (0): WeightDropout(\n",
       "        (module): LSTM(400, 1150)\n",
       "      )\n",
       "      (1): WeightDropout(\n",
       "        (module): LSTM(1150, 1150)\n",
       "      )\n",
       "      (2): WeightDropout(\n",
       "        (module): LSTM(1150, 400)\n",
       "      )\n",
       "    )\n",
       "    (input_dp): RNNDropout()\n",
       "    (hidden_dps): ModuleList(\n",
       "      (0): RNNDropout()\n",
       "      (1): RNNDropout()\n",
       "      (2): RNNDropout()\n",
       "    )\n",
       "  )\n",
       "  (1): LinearDecoder(\n",
       "    (decoder): Linear(in_features=400, out_features=4300, bias=True)\n",
       "    (output_dp): RNNDropout()\n",
       "  )\n",
       "), opt_func=functools.partial(<class 'torch.optim.adam.Adam'>, betas=(0.9, 0.99)), loss_func=<fastai.layers.FlattenedLoss object at 0x7f331d07da90>, metrics=[<function accuracy at 0x7f33b886ac80>], true_wd=True, bn_wd=True, wd=0.01, train_bn=True, path=PosixPath('/media/saqib/ni/Projects/Microsoft/AI_Challenge_18/data'), model_dir='models', callback_fns=[<class 'fastai.basic_train.Recorder'>], callbacks=[...], layer_groups=[Sequential(\n",
       "  (0): WeightDropout(\n",
       "    (module): LSTM(400, 1150)\n",
       "  )\n",
       "  (1): RNNDropout()\n",
       "), Sequential(\n",
       "  (0): WeightDropout(\n",
       "    (module): LSTM(1150, 1150)\n",
       "  )\n",
       "  (1): RNNDropout()\n",
       "), Sequential(\n",
       "  (0): WeightDropout(\n",
       "    (module): LSTM(1150, 400)\n",
       "  )\n",
       "  (1): RNNDropout()\n",
       "), Sequential(\n",
       "  (0): Embedding(4300, 400, padding_idx=1)\n",
       "  (1): EmbeddingDropout(\n",
       "    (emb): Embedding(4300, 400, padding_idx=1)\n",
       "  )\n",
       "  (2): LinearDecoder(\n",
       "    (decoder): Linear(in_features=400, out_features=4300, bias=True)\n",
       "    (output_dp): RNNDropout()\n",
       "  )\n",
       ")]), loss_scale=512.0, flat_master=False)], layer_groups=[Sequential(\n",
       "  (0): WeightDropout(\n",
       "    (module): LSTM(400, 1150)\n",
       "  )\n",
       "  (1): RNNDropout()\n",
       "), Sequential(\n",
       "  (0): WeightDropout(\n",
       "    (module): LSTM(1150, 1150)\n",
       "  )\n",
       "  (1): RNNDropout()\n",
       "), Sequential(\n",
       "  (0): WeightDropout(\n",
       "    (module): LSTM(1150, 400)\n",
       "  )\n",
       "  (1): RNNDropout()\n",
       "), Sequential(\n",
       "  (0): Embedding(4300, 400, padding_idx=1)\n",
       "  (1): EmbeddingDropout(\n",
       "    (emb): Embedding(4300, 400, padding_idx=1)\n",
       "  )\n",
       "  (2): LinearDecoder(\n",
       "    (decoder): Linear(in_features=400, out_features=4300, bias=True)\n",
       "    (output_dp): RNNDropout()\n",
       "  )\n",
       ")])"
      ]
     },
     "execution_count": 33,
     "metadata": {},
     "output_type": "execute_result"
    }
   ],
   "source": [
    "learn.to_fp16()"
   ]
  },
  {
   "cell_type": "code",
   "execution_count": 21,
   "metadata": {},
   "outputs": [],
   "source": [
    "learn = learn.model[0]"
   ]
  },
  {
   "cell_type": "code",
   "execution_count": 26,
   "metadata": {},
   "outputs": [],
   "source": [
    "state_dict = torch.load('../../data/models/sample_encoder.pth')"
   ]
  },
  {
   "cell_type": "code",
   "execution_count": 27,
   "metadata": {},
   "outputs": [
    {
     "data": {
      "text/plain": [
       "OrderedDict([('encoder.weight',\n",
       "              tensor([[ 0.0960, -0.1418, -0.6190,  ..., -0.3504,  0.0682, -0.4601],\n",
       "                      [ 0.1946, -0.0115,  0.1428,  ..., -0.0103, -0.0151, -0.1357],\n",
       "                      [-0.6398,  0.1223, -0.2812,  ...,  0.1162, -0.5736,  0.5251],\n",
       "                      ...,\n",
       "                      [ 0.1403, -0.1119,  0.4705,  ...,  0.1669,  0.3087,  0.0305],\n",
       "                      [ 0.3783,  0.6061,  0.6225,  ..., -0.2697,  0.4633,  0.0732],\n",
       "                      [ 0.2328,  0.3468,  0.4393,  ...,  0.2017,  0.9820,  0.0264]],\n",
       "                     device='cuda:0')),\n",
       "             ('encoder_dp.emb.weight',\n",
       "              tensor([[ 0.0960, -0.1418, -0.6190,  ..., -0.3504,  0.0682, -0.4601],\n",
       "                      [ 0.1946, -0.0115,  0.1428,  ..., -0.0103, -0.0151, -0.1357],\n",
       "                      [-0.6398,  0.1223, -0.2812,  ...,  0.1162, -0.5736,  0.5251],\n",
       "                      ...,\n",
       "                      [ 0.1403, -0.1119,  0.4705,  ...,  0.1669,  0.3087,  0.0305],\n",
       "                      [ 0.3783,  0.6061,  0.6225,  ..., -0.2697,  0.4633,  0.0732],\n",
       "                      [ 0.2328,  0.3468,  0.4393,  ...,  0.2017,  0.9820,  0.0264]],\n",
       "                     device='cuda:0')),\n",
       "             ('rnns.0.weight_hh_l0_raw',\n",
       "              tensor([[-0.1214, -0.2489, -0.3533,  ..., -0.1640,  0.1602,  0.0546],\n",
       "                      [-0.5687,  0.0595,  0.0088,  ..., -0.4180, -0.4246,  0.1718],\n",
       "                      [ 0.1991, -0.2979, -0.0449,  ..., -0.1476, -0.0424, -0.0062],\n",
       "                      ...,\n",
       "                      [ 0.2319, -0.4645,  0.1398,  ..., -0.1465, -0.3329,  0.0152],\n",
       "                      [-0.0816, -0.2783,  0.2756,  ...,  0.3236, -0.3030,  0.1147],\n",
       "                      [ 0.1573, -0.1953,  0.2018,  ..., -0.0935,  0.0737,  0.4829]],\n",
       "                     device='cuda:0')),\n",
       "             ('rnns.0.module.weight_ih_l0',\n",
       "              tensor([[-0.2967,  0.3998, -0.2423,  ..., -0.0910,  0.3857,  0.3903],\n",
       "                      [ 0.7392,  0.1230,  0.5615,  ..., -0.1103,  0.0535,  0.6559],\n",
       "                      [ 0.1085,  0.4041, -0.0818,  ..., -0.4436,  0.0362,  0.6063],\n",
       "                      ...,\n",
       "                      [ 0.0265,  0.3220, -0.0343,  ...,  0.7847, -0.5898, -0.2149],\n",
       "                      [-0.2190,  0.3115, -0.1725,  ...,  0.0234,  0.0378, -0.3909],\n",
       "                      [ 0.1401, -0.1281,  0.2396,  ...,  0.1207,  0.3112,  0.3946]],\n",
       "                     device='cuda:0')),\n",
       "             ('rnns.0.module.weight_hh_l0',\n",
       "              tensor([[-0.1214, -0.2489, -0.3533,  ..., -0.1640,  0.1602,  0.0546],\n",
       "                      [-0.5687,  0.0595,  0.0088,  ..., -0.4180, -0.4246,  0.1718],\n",
       "                      [ 0.1991, -0.2979, -0.0449,  ..., -0.1476, -0.0424, -0.0062],\n",
       "                      ...,\n",
       "                      [ 0.2319, -0.4645,  0.1398,  ..., -0.1465, -0.3329,  0.0152],\n",
       "                      [-0.0816, -0.2783,  0.2756,  ...,  0.3236, -0.3030,  0.1147],\n",
       "                      [ 0.1573, -0.1953,  0.2018,  ..., -0.0935,  0.0737,  0.4829]],\n",
       "                     device='cuda:0')),\n",
       "             ('rnns.0.module.bias_ih_l0',\n",
       "              tensor([ 0.1035, -0.2341, -0.1503,  ..., -0.1702, -0.2122, -0.2880],\n",
       "                     device='cuda:0')),\n",
       "             ('rnns.0.module.bias_hh_l0',\n",
       "              tensor([ 0.1035, -0.2342, -0.1503,  ..., -0.1701, -0.2123, -0.2881],\n",
       "                     device='cuda:0')),\n",
       "             ('rnns.1.weight_hh_l0_raw',\n",
       "              tensor([[ 0.8009,  0.2608, -0.2894,  ...,  0.4005,  0.4859, -0.6254],\n",
       "                      [-0.6420,  0.1989, -0.3620,  ...,  0.1688, -0.7034,  0.0366],\n",
       "                      [-0.2898, -0.1333, -0.2335,  ..., -0.0213,  0.4174, -0.5180],\n",
       "                      ...,\n",
       "                      [ 0.0674, -0.3770,  0.2716,  ..., -0.1818,  0.3036, -0.0066],\n",
       "                      [-0.0764, -0.3918,  0.3165,  ..., -0.1102,  0.3880, -0.0195],\n",
       "                      [ 0.0224,  0.4406, -0.3366,  ..., -0.2219,  0.0024, -0.2200]],\n",
       "                     device='cuda:0')),\n",
       "             ('rnns.1.module.weight_ih_l0',\n",
       "              tensor([[-0.1445,  0.1463, -0.5261,  ...,  0.0686,  0.1773,  0.1627],\n",
       "                      [ 0.3002, -0.1145,  0.3832,  ..., -0.0113, -0.0026, -0.3619],\n",
       "                      [-0.1585, -0.3470,  0.3166,  ..., -0.0429, -0.2921,  0.4017],\n",
       "                      ...,\n",
       "                      [ 0.0393, -0.2203,  0.1722,  ..., -0.1170,  0.1980,  0.1375],\n",
       "                      [ 0.3653, -0.0192, -0.2650,  ..., -0.0079,  0.3315, -0.0939],\n",
       "                      [ 0.4557, -0.4077, -0.1618,  ..., -0.2024, -0.4390,  0.4408]],\n",
       "                     device='cuda:0')),\n",
       "             ('rnns.1.module.weight_hh_l0',\n",
       "              tensor([[ 0.8009,  0.2608, -0.2894,  ...,  0.4005,  0.4859, -0.6254],\n",
       "                      [-0.6420,  0.1989, -0.3620,  ...,  0.1688, -0.7034,  0.0366],\n",
       "                      [-0.2898, -0.1333, -0.2335,  ..., -0.0213,  0.4174, -0.5180],\n",
       "                      ...,\n",
       "                      [ 0.0674, -0.3770,  0.2716,  ..., -0.1818,  0.3036, -0.0066],\n",
       "                      [-0.0764, -0.3918,  0.3165,  ..., -0.1102,  0.3880, -0.0195],\n",
       "                      [ 0.0224,  0.4406, -0.3366,  ..., -0.2219,  0.0024, -0.2200]],\n",
       "                     device='cuda:0')),\n",
       "             ('rnns.1.module.bias_ih_l0',\n",
       "              tensor([-0.3896, -0.4099, -0.3233,  ..., -0.3395, -0.6056, -0.4794],\n",
       "                     device='cuda:0')),\n",
       "             ('rnns.1.module.bias_hh_l0',\n",
       "              tensor([-0.3895, -0.4098, -0.3233,  ..., -0.3395, -0.6056, -0.4794],\n",
       "                     device='cuda:0')),\n",
       "             ('rnns.2.weight_hh_l0_raw',\n",
       "              tensor([[-0.1474, -0.1887,  0.1177,  ...,  0.0679,  0.0106,  0.0175],\n",
       "                      [-0.1930, -0.0865,  0.1814,  ...,  0.0027,  0.0079,  0.0164],\n",
       "                      [ 0.0864,  0.1906,  0.2527,  ...,  0.0465, -0.0432,  0.0079],\n",
       "                      ...,\n",
       "                      [-0.1425, -0.2967,  0.2135,  ..., -0.0587,  0.1315,  0.2580],\n",
       "                      [ 0.0900,  0.2608, -0.2576,  ...,  0.0358, -0.0069,  0.1267],\n",
       "                      [-0.1319,  0.0475,  0.0054,  ...,  0.0581, -0.3711, -0.3324]],\n",
       "                     device='cuda:0')),\n",
       "             ('rnns.2.module.weight_ih_l0',\n",
       "              tensor([[ 0.1039,  0.2923, -0.3258,  ...,  0.2135, -0.3347, -0.5555],\n",
       "                      [-0.2871,  0.1533, -0.3904,  ..., -0.2849, -1.0743, -0.2374],\n",
       "                      [-0.1220, -0.0900,  0.0661,  ...,  0.3385,  0.1255,  0.0550],\n",
       "                      ...,\n",
       "                      [-0.5129,  1.2413,  0.0481,  ..., -0.2299, -0.0365, -0.5186],\n",
       "                      [ 0.6974, -0.1199, -0.0755,  ..., -0.6826, -0.4313, -0.1030],\n",
       "                      [-0.6117,  0.5236, -0.4261,  ..., -0.6912,  0.5258, -0.1729]],\n",
       "                     device='cuda:0')),\n",
       "             ('rnns.2.module.weight_hh_l0',\n",
       "              tensor([[-0.1474, -0.1887,  0.1177,  ...,  0.0679,  0.0106,  0.0175],\n",
       "                      [-0.1930, -0.0865,  0.1814,  ...,  0.0027,  0.0079,  0.0164],\n",
       "                      [ 0.0864,  0.1906,  0.2527,  ...,  0.0465, -0.0432,  0.0079],\n",
       "                      ...,\n",
       "                      [-0.1425, -0.2967,  0.2135,  ..., -0.0587,  0.1315,  0.2580],\n",
       "                      [ 0.0900,  0.2608, -0.2576,  ...,  0.0358, -0.0069,  0.1267],\n",
       "                      [-0.1319,  0.0475,  0.0054,  ...,  0.0581, -0.3711, -0.3324]],\n",
       "                     device='cuda:0')),\n",
       "             ('rnns.2.module.bias_ih_l0',\n",
       "              tensor([ 0.1664, -0.0883, -0.0965,  ...,  0.2148,  0.6734,  0.6200],\n",
       "                     device='cuda:0')),\n",
       "             ('rnns.2.module.bias_hh_l0',\n",
       "              tensor([ 0.1665, -0.0883, -0.0965,  ...,  0.2149,  0.6734,  0.6200],\n",
       "                     device='cuda:0'))])"
      ]
     },
     "execution_count": 27,
     "metadata": {},
     "output_type": "execute_result"
    }
   ],
   "source": [
    "state_dict"
   ]
  },
  {
   "cell_type": "code",
   "execution_count": 28,
   "metadata": {},
   "outputs": [],
   "source": [
    "keys = list(state_dict.keys())"
   ]
  },
  {
   "cell_type": "code",
   "execution_count": 29,
   "metadata": {},
   "outputs": [
    {
     "data": {
      "text/plain": [
       "['encoder.weight',\n",
       " 'encoder_dp.emb.weight',\n",
       " 'rnns.0.weight_hh_l0_raw',\n",
       " 'rnns.0.module.weight_ih_l0',\n",
       " 'rnns.0.module.weight_hh_l0',\n",
       " 'rnns.0.module.bias_ih_l0',\n",
       " 'rnns.0.module.bias_hh_l0',\n",
       " 'rnns.1.weight_hh_l0_raw',\n",
       " 'rnns.1.module.weight_ih_l0',\n",
       " 'rnns.1.module.weight_hh_l0',\n",
       " 'rnns.1.module.bias_ih_l0',\n",
       " 'rnns.1.module.bias_hh_l0',\n",
       " 'rnns.2.weight_hh_l0_raw',\n",
       " 'rnns.2.module.weight_ih_l0',\n",
       " 'rnns.2.module.weight_hh_l0',\n",
       " 'rnns.2.module.bias_ih_l0',\n",
       " 'rnns.2.module.bias_hh_l0']"
      ]
     },
     "execution_count": 29,
     "metadata": {},
     "output_type": "execute_result"
    }
   ],
   "source": [
    "keys"
   ]
  },
  {
   "cell_type": "code",
   "execution_count": 36,
   "metadata": {},
   "outputs": [],
   "source": [
    "save_model = callbacks.SaveModelCallback(learn)"
   ]
  },
  {
   "cell_type": "code",
   "execution_count": 37,
   "metadata": {},
   "outputs": [
    {
     "data": {
      "text/html": [
       "Total time: 00:45 <p><table style='width:300px; margin-bottom:10px'>\n",
       "  <tr>\n",
       "    <th>epoch</th>\n",
       "    <th>train_loss</th>\n",
       "    <th>valid_loss</th>\n",
       "    <th>accuracy</th>\n",
       "  </tr>\n",
       "  <tr>\n",
       "    <th>1</th>\n",
       "    <th>4.747317</th>\n",
       "    <th>4.276361</th>\n",
       "    <th>0.290509</th>\n",
       "  </tr>\n",
       "  <tr>\n",
       "    <th>2</th>\n",
       "    <th>4.387459</th>\n",
       "    <th>3.932683</th>\n",
       "    <th>0.317260</th>\n",
       "  </tr>\n",
       "  <tr>\n",
       "    <th>3</th>\n",
       "    <th>4.056827</th>\n",
       "    <th>3.756846</th>\n",
       "    <th>0.323439</th>\n",
       "  </tr>\n",
       "  <tr>\n",
       "    <th>4</th>\n",
       "    <th>3.856960</th>\n",
       "    <th>3.716319</th>\n",
       "    <th>0.332694</th>\n",
       "  </tr>\n",
       "</table>\n"
      ],
      "text/plain": [
       "<IPython.core.display.HTML object>"
      ]
     },
     "metadata": {},
     "output_type": "display_data"
    },
    {
     "ename": "NameError",
     "evalue": "name 'path' is not defined",
     "output_type": "error",
     "traceback": [
      "\u001b[0;31m---------------------------------------------------------------------------\u001b[0m",
      "\u001b[0;31mNameError\u001b[0m                                 Traceback (most recent call last)",
      "\u001b[0;32m<ipython-input-37-f20bca51c2b0>\u001b[0m in \u001b[0;36m<module>\u001b[0;34m()\u001b[0m\n\u001b[0;32m----> 1\u001b[0;31m \u001b[0mlearn\u001b[0m\u001b[0;34m.\u001b[0m\u001b[0mfit_one_cycle\u001b[0m\u001b[0;34m(\u001b[0m\u001b[0;36m4\u001b[0m\u001b[0;34m,\u001b[0m \u001b[0mmoms\u001b[0m\u001b[0;34m=\u001b[0m\u001b[0;34m(\u001b[0m\u001b[0;36m0.8\u001b[0m\u001b[0;34m,\u001b[0m \u001b[0;36m0.7\u001b[0m\u001b[0;34m)\u001b[0m\u001b[0;34m,\u001b[0m \u001b[0mcallbacks\u001b[0m\u001b[0;34m=\u001b[0m\u001b[0;34m[\u001b[0m\u001b[0msave_model\u001b[0m\u001b[0;34m]\u001b[0m\u001b[0;34m)\u001b[0m\u001b[0;34m\u001b[0m\u001b[0m\n\u001b[0m",
      "\u001b[0;32m/usr/local/lib/python3.6/site-packages/fastai/train.py\u001b[0m in \u001b[0;36mfit_one_cycle\u001b[0;34m(learn, cyc_len, max_lr, moms, div_factor, pct_start, wd, callbacks, **kwargs)\u001b[0m\n\u001b[1;32m     19\u001b[0m     callbacks.append(OneCycleScheduler(learn, max_lr, moms=moms, div_factor=div_factor,\n\u001b[1;32m     20\u001b[0m                                         pct_start=pct_start, **kwargs))\n\u001b[0;32m---> 21\u001b[0;31m     \u001b[0mlearn\u001b[0m\u001b[0;34m.\u001b[0m\u001b[0mfit\u001b[0m\u001b[0;34m(\u001b[0m\u001b[0mcyc_len\u001b[0m\u001b[0;34m,\u001b[0m \u001b[0mmax_lr\u001b[0m\u001b[0;34m,\u001b[0m \u001b[0mwd\u001b[0m\u001b[0;34m=\u001b[0m\u001b[0mwd\u001b[0m\u001b[0;34m,\u001b[0m \u001b[0mcallbacks\u001b[0m\u001b[0;34m=\u001b[0m\u001b[0mcallbacks\u001b[0m\u001b[0;34m)\u001b[0m\u001b[0;34m\u001b[0m\u001b[0m\n\u001b[0m\u001b[1;32m     22\u001b[0m \u001b[0;34m\u001b[0m\u001b[0m\n\u001b[1;32m     23\u001b[0m \u001b[0;32mdef\u001b[0m \u001b[0mlr_find\u001b[0m\u001b[0;34m(\u001b[0m\u001b[0mlearn\u001b[0m\u001b[0;34m:\u001b[0m\u001b[0mLearner\u001b[0m\u001b[0;34m,\u001b[0m \u001b[0mstart_lr\u001b[0m\u001b[0;34m:\u001b[0m\u001b[0mFloats\u001b[0m\u001b[0;34m=\u001b[0m\u001b[0;36m1e-7\u001b[0m\u001b[0;34m,\u001b[0m \u001b[0mend_lr\u001b[0m\u001b[0;34m:\u001b[0m\u001b[0mFloats\u001b[0m\u001b[0;34m=\u001b[0m\u001b[0;36m10\u001b[0m\u001b[0;34m,\u001b[0m \u001b[0mnum_it\u001b[0m\u001b[0;34m:\u001b[0m\u001b[0mint\u001b[0m\u001b[0;34m=\u001b[0m\u001b[0;36m100\u001b[0m\u001b[0;34m,\u001b[0m \u001b[0mstop_div\u001b[0m\u001b[0;34m:\u001b[0m\u001b[0mbool\u001b[0m\u001b[0;34m=\u001b[0m\u001b[0;32mTrue\u001b[0m\u001b[0;34m,\u001b[0m \u001b[0;34m**\u001b[0m\u001b[0mkwargs\u001b[0m\u001b[0;34m:\u001b[0m\u001b[0mAny\u001b[0m\u001b[0;34m)\u001b[0m\u001b[0;34m:\u001b[0m\u001b[0;34m\u001b[0m\u001b[0m\n",
      "\u001b[0;32m/usr/local/lib/python3.6/site-packages/fastai/basic_train.py\u001b[0m in \u001b[0;36mfit\u001b[0;34m(self, epochs, lr, wd, callbacks)\u001b[0m\n\u001b[1;32m    164\u001b[0m         \u001b[0mcallbacks\u001b[0m \u001b[0;34m=\u001b[0m \u001b[0;34m[\u001b[0m\u001b[0mcb\u001b[0m\u001b[0;34m(\u001b[0m\u001b[0mself\u001b[0m\u001b[0;34m)\u001b[0m \u001b[0;32mfor\u001b[0m \u001b[0mcb\u001b[0m \u001b[0;32min\u001b[0m \u001b[0mself\u001b[0m\u001b[0;34m.\u001b[0m\u001b[0mcallback_fns\u001b[0m\u001b[0;34m]\u001b[0m \u001b[0;34m+\u001b[0m \u001b[0mlistify\u001b[0m\u001b[0;34m(\u001b[0m\u001b[0mcallbacks\u001b[0m\u001b[0;34m)\u001b[0m\u001b[0;34m\u001b[0m\u001b[0m\n\u001b[1;32m    165\u001b[0m         fit(epochs, self.model, self.loss_func, opt=self.opt, data=self.data, metrics=self.metrics,\n\u001b[0;32m--> 166\u001b[0;31m             callbacks=self.callbacks+callbacks)\n\u001b[0m\u001b[1;32m    167\u001b[0m \u001b[0;34m\u001b[0m\u001b[0m\n\u001b[1;32m    168\u001b[0m     \u001b[0;32mdef\u001b[0m \u001b[0mcreate_opt\u001b[0m\u001b[0;34m(\u001b[0m\u001b[0mself\u001b[0m\u001b[0;34m,\u001b[0m \u001b[0mlr\u001b[0m\u001b[0;34m:\u001b[0m\u001b[0mFloats\u001b[0m\u001b[0;34m,\u001b[0m \u001b[0mwd\u001b[0m\u001b[0;34m:\u001b[0m\u001b[0mFloats\u001b[0m\u001b[0;34m=\u001b[0m\u001b[0;36m0.\u001b[0m\u001b[0;34m)\u001b[0m\u001b[0;34m->\u001b[0m\u001b[0;32mNone\u001b[0m\u001b[0;34m:\u001b[0m\u001b[0;34m\u001b[0m\u001b[0m\n",
      "\u001b[0;32m/usr/local/lib/python3.6/site-packages/fastai/basic_train.py\u001b[0m in \u001b[0;36mfit\u001b[0;34m(epochs, model, loss_func, opt, data, callbacks, metrics)\u001b[0m\n\u001b[1;32m     93\u001b[0m         \u001b[0mexception\u001b[0m \u001b[0;34m=\u001b[0m \u001b[0me\u001b[0m\u001b[0;34m\u001b[0m\u001b[0m\n\u001b[1;32m     94\u001b[0m         \u001b[0;32mraise\u001b[0m \u001b[0me\u001b[0m\u001b[0;34m\u001b[0m\u001b[0m\n\u001b[0;32m---> 95\u001b[0;31m     \u001b[0;32mfinally\u001b[0m\u001b[0;34m:\u001b[0m \u001b[0mcb_handler\u001b[0m\u001b[0;34m.\u001b[0m\u001b[0mon_train_end\u001b[0m\u001b[0;34m(\u001b[0m\u001b[0mexception\u001b[0m\u001b[0;34m)\u001b[0m\u001b[0;34m\u001b[0m\u001b[0m\n\u001b[0m\u001b[1;32m     96\u001b[0m \u001b[0;34m\u001b[0m\u001b[0m\n\u001b[1;32m     97\u001b[0m loss_func_name2activ = {'cross_entropy_loss': partial(F.softmax, dim=-1), 'nll_loss': torch.exp, 'poisson_nll_loss': torch.exp,\n",
      "\u001b[0;32m/usr/local/lib/python3.6/site-packages/fastai/callback.py\u001b[0m in \u001b[0;36mon_train_end\u001b[0;34m(self, exception)\u001b[0m\n\u001b[1;32m    255\u001b[0m     \u001b[0;32mdef\u001b[0m \u001b[0mon_train_end\u001b[0m\u001b[0;34m(\u001b[0m\u001b[0mself\u001b[0m\u001b[0;34m,\u001b[0m \u001b[0mexception\u001b[0m\u001b[0;34m:\u001b[0m\u001b[0mUnion\u001b[0m\u001b[0;34m[\u001b[0m\u001b[0mbool\u001b[0m\u001b[0;34m,\u001b[0m\u001b[0mException\u001b[0m\u001b[0;34m]\u001b[0m\u001b[0;34m)\u001b[0m\u001b[0;34m->\u001b[0m\u001b[0;32mNone\u001b[0m\u001b[0;34m:\u001b[0m\u001b[0;34m\u001b[0m\u001b[0m\n\u001b[1;32m    256\u001b[0m         \u001b[0;34m\"Handle end of training, `exception` is an `Exception` or False if no exceptions during training.\"\u001b[0m\u001b[0;34m\u001b[0m\u001b[0m\n\u001b[0;32m--> 257\u001b[0;31m         \u001b[0mself\u001b[0m\u001b[0;34m(\u001b[0m\u001b[0;34m'train_end'\u001b[0m\u001b[0;34m,\u001b[0m \u001b[0mexception\u001b[0m\u001b[0;34m=\u001b[0m\u001b[0mexception\u001b[0m\u001b[0;34m)\u001b[0m\u001b[0;34m\u001b[0m\u001b[0m\n\u001b[0m\u001b[1;32m    258\u001b[0m \u001b[0;34m\u001b[0m\u001b[0m\n\u001b[1;32m    259\u001b[0m \u001b[0;32mclass\u001b[0m \u001b[0mAverageMetric\u001b[0m\u001b[0;34m(\u001b[0m\u001b[0mCallback\u001b[0m\u001b[0;34m)\u001b[0m\u001b[0;34m:\u001b[0m\u001b[0;34m\u001b[0m\u001b[0m\n",
      "\u001b[0;32m/usr/local/lib/python3.6/site-packages/fastai/callback.py\u001b[0m in \u001b[0;36m__call__\u001b[0;34m(self, cb_name, call_mets, **kwargs)\u001b[0m\n\u001b[1;32m    186\u001b[0m         \u001b[0;34m\"Call through to all of the `CallbakHandler` functions.\"\u001b[0m\u001b[0;34m\u001b[0m\u001b[0m\n\u001b[1;32m    187\u001b[0m         \u001b[0;32mif\u001b[0m \u001b[0mcall_mets\u001b[0m\u001b[0;34m:\u001b[0m \u001b[0;34m[\u001b[0m\u001b[0mgetattr\u001b[0m\u001b[0;34m(\u001b[0m\u001b[0mmet\u001b[0m\u001b[0;34m,\u001b[0m \u001b[0;34mf'on_{cb_name}'\u001b[0m\u001b[0;34m)\u001b[0m\u001b[0;34m(\u001b[0m\u001b[0;34m**\u001b[0m\u001b[0mself\u001b[0m\u001b[0;34m.\u001b[0m\u001b[0mstate_dict\u001b[0m\u001b[0;34m,\u001b[0m \u001b[0;34m**\u001b[0m\u001b[0mkwargs\u001b[0m\u001b[0;34m)\u001b[0m \u001b[0;32mfor\u001b[0m \u001b[0mmet\u001b[0m \u001b[0;32min\u001b[0m \u001b[0mself\u001b[0m\u001b[0;34m.\u001b[0m\u001b[0mmetrics\u001b[0m\u001b[0;34m]\u001b[0m\u001b[0;34m\u001b[0m\u001b[0m\n\u001b[0;32m--> 188\u001b[0;31m         \u001b[0;32mreturn\u001b[0m \u001b[0;34m[\u001b[0m\u001b[0mgetattr\u001b[0m\u001b[0;34m(\u001b[0m\u001b[0mcb\u001b[0m\u001b[0;34m,\u001b[0m \u001b[0;34mf'on_{cb_name}'\u001b[0m\u001b[0;34m)\u001b[0m\u001b[0;34m(\u001b[0m\u001b[0;34m**\u001b[0m\u001b[0mself\u001b[0m\u001b[0;34m.\u001b[0m\u001b[0mstate_dict\u001b[0m\u001b[0;34m,\u001b[0m \u001b[0;34m**\u001b[0m\u001b[0mkwargs\u001b[0m\u001b[0;34m)\u001b[0m \u001b[0;32mfor\u001b[0m \u001b[0mcb\u001b[0m \u001b[0;32min\u001b[0m \u001b[0mself\u001b[0m\u001b[0;34m.\u001b[0m\u001b[0mcallbacks\u001b[0m\u001b[0;34m]\u001b[0m\u001b[0;34m\u001b[0m\u001b[0m\n\u001b[0m\u001b[1;32m    189\u001b[0m \u001b[0;34m\u001b[0m\u001b[0m\n\u001b[1;32m    190\u001b[0m     \u001b[0;32mdef\u001b[0m \u001b[0mon_train_begin\u001b[0m\u001b[0;34m(\u001b[0m\u001b[0mself\u001b[0m\u001b[0;34m,\u001b[0m \u001b[0mepochs\u001b[0m\u001b[0;34m:\u001b[0m\u001b[0mint\u001b[0m\u001b[0;34m,\u001b[0m \u001b[0mpbar\u001b[0m\u001b[0;34m:\u001b[0m\u001b[0mPBar\u001b[0m\u001b[0;34m,\u001b[0m \u001b[0mmetrics\u001b[0m\u001b[0;34m:\u001b[0m\u001b[0mMetricFuncList\u001b[0m\u001b[0;34m)\u001b[0m\u001b[0;34m->\u001b[0m\u001b[0;32mNone\u001b[0m\u001b[0;34m:\u001b[0m\u001b[0;34m\u001b[0m\u001b[0m\n",
      "\u001b[0;32m/usr/local/lib/python3.6/site-packages/fastai/callback.py\u001b[0m in \u001b[0;36m<listcomp>\u001b[0;34m(.0)\u001b[0m\n\u001b[1;32m    186\u001b[0m         \u001b[0;34m\"Call through to all of the `CallbakHandler` functions.\"\u001b[0m\u001b[0;34m\u001b[0m\u001b[0m\n\u001b[1;32m    187\u001b[0m         \u001b[0;32mif\u001b[0m \u001b[0mcall_mets\u001b[0m\u001b[0;34m:\u001b[0m \u001b[0;34m[\u001b[0m\u001b[0mgetattr\u001b[0m\u001b[0;34m(\u001b[0m\u001b[0mmet\u001b[0m\u001b[0;34m,\u001b[0m \u001b[0;34mf'on_{cb_name}'\u001b[0m\u001b[0;34m)\u001b[0m\u001b[0;34m(\u001b[0m\u001b[0;34m**\u001b[0m\u001b[0mself\u001b[0m\u001b[0;34m.\u001b[0m\u001b[0mstate_dict\u001b[0m\u001b[0;34m,\u001b[0m \u001b[0;34m**\u001b[0m\u001b[0mkwargs\u001b[0m\u001b[0;34m)\u001b[0m \u001b[0;32mfor\u001b[0m \u001b[0mmet\u001b[0m \u001b[0;32min\u001b[0m \u001b[0mself\u001b[0m\u001b[0;34m.\u001b[0m\u001b[0mmetrics\u001b[0m\u001b[0;34m]\u001b[0m\u001b[0;34m\u001b[0m\u001b[0m\n\u001b[0;32m--> 188\u001b[0;31m         \u001b[0;32mreturn\u001b[0m \u001b[0;34m[\u001b[0m\u001b[0mgetattr\u001b[0m\u001b[0;34m(\u001b[0m\u001b[0mcb\u001b[0m\u001b[0;34m,\u001b[0m \u001b[0;34mf'on_{cb_name}'\u001b[0m\u001b[0;34m)\u001b[0m\u001b[0;34m(\u001b[0m\u001b[0;34m**\u001b[0m\u001b[0mself\u001b[0m\u001b[0;34m.\u001b[0m\u001b[0mstate_dict\u001b[0m\u001b[0;34m,\u001b[0m \u001b[0;34m**\u001b[0m\u001b[0mkwargs\u001b[0m\u001b[0;34m)\u001b[0m \u001b[0;32mfor\u001b[0m \u001b[0mcb\u001b[0m \u001b[0;32min\u001b[0m \u001b[0mself\u001b[0m\u001b[0;34m.\u001b[0m\u001b[0mcallbacks\u001b[0m\u001b[0;34m]\u001b[0m\u001b[0;34m\u001b[0m\u001b[0m\n\u001b[0m\u001b[1;32m    189\u001b[0m \u001b[0;34m\u001b[0m\u001b[0m\n\u001b[1;32m    190\u001b[0m     \u001b[0;32mdef\u001b[0m \u001b[0mon_train_begin\u001b[0m\u001b[0;34m(\u001b[0m\u001b[0mself\u001b[0m\u001b[0;34m,\u001b[0m \u001b[0mepochs\u001b[0m\u001b[0;34m:\u001b[0m\u001b[0mint\u001b[0m\u001b[0;34m,\u001b[0m \u001b[0mpbar\u001b[0m\u001b[0;34m:\u001b[0m\u001b[0mPBar\u001b[0m\u001b[0;34m,\u001b[0m \u001b[0mmetrics\u001b[0m\u001b[0;34m:\u001b[0m\u001b[0mMetricFuncList\u001b[0m\u001b[0;34m)\u001b[0m\u001b[0;34m->\u001b[0m\u001b[0;32mNone\u001b[0m\u001b[0;34m:\u001b[0m\u001b[0;34m\u001b[0m\u001b[0m\n",
      "\u001b[0;32m/usr/local/lib/python3.6/site-packages/fastai/callbacks/tracker.py\u001b[0m in \u001b[0;36mon_train_end\u001b[0;34m(self, **kwargs)\u001b[0m\n\u001b[1;32m    103\u001b[0m     \u001b[0;32mdef\u001b[0m \u001b[0mon_train_end\u001b[0m\u001b[0;34m(\u001b[0m\u001b[0mself\u001b[0m\u001b[0;34m,\u001b[0m \u001b[0;34m**\u001b[0m\u001b[0mkwargs\u001b[0m\u001b[0;34m)\u001b[0m\u001b[0;34m:\u001b[0m\u001b[0;34m\u001b[0m\u001b[0m\n\u001b[1;32m    104\u001b[0m         \u001b[0;34m\"Load the best model.\"\u001b[0m\u001b[0;34m\u001b[0m\u001b[0m\n\u001b[0;32m--> 105\u001b[0;31m         \u001b[0;32mif\u001b[0m \u001b[0mself\u001b[0m\u001b[0;34m.\u001b[0m\u001b[0mevery\u001b[0m\u001b[0;34m==\u001b[0m\u001b[0;34m\"improvement\"\u001b[0m \u001b[0;32mand\u001b[0m \u001b[0;34m(\u001b[0m\u001b[0mpath\u001b[0m\u001b[0;34m/\u001b[0m\u001b[0;34mf'{self.learn.model_dir}/{self.name}.pth'\u001b[0m\u001b[0;34m)\u001b[0m\u001b[0;34m.\u001b[0m\u001b[0mis_file\u001b[0m\u001b[0;34m(\u001b[0m\u001b[0;34m)\u001b[0m\u001b[0;34m:\u001b[0m\u001b[0;34m\u001b[0m\u001b[0m\n\u001b[0m\u001b[1;32m    106\u001b[0m             \u001b[0mself\u001b[0m\u001b[0;34m.\u001b[0m\u001b[0mlearn\u001b[0m\u001b[0;34m.\u001b[0m\u001b[0mload\u001b[0m\u001b[0;34m(\u001b[0m\u001b[0;34mf'{self.name}'\u001b[0m\u001b[0;34m)\u001b[0m\u001b[0;34m\u001b[0m\u001b[0m\n\u001b[1;32m    107\u001b[0m \u001b[0;34m\u001b[0m\u001b[0m\n",
      "\u001b[0;31mNameError\u001b[0m: name 'path' is not defined"
     ]
    }
   ],
   "source": [
    "learn.fit_one_cycle(4, moms=(0.8, 0.7), callbacks=[save_model])"
   ]
  },
  {
   "cell_type": "code",
   "execution_count": null,
   "metadata": {},
   "outputs": [],
   "source": []
  }
 ],
 "metadata": {
  "kernelspec": {
   "display_name": "Python 3",
   "language": "python",
   "name": "python3"
  },
  "language_info": {
   "codemirror_mode": {
    "name": "ipython",
    "version": 3
   },
   "file_extension": ".py",
   "mimetype": "text/x-python",
   "name": "python",
   "nbconvert_exporter": "python",
   "pygments_lexer": "ipython3",
   "version": "3.6.5"
  }
 },
 "nbformat": 4,
 "nbformat_minor": 2
}
