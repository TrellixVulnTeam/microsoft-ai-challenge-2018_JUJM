{
 "cells": [
  {
   "cell_type": "code",
   "execution_count": 1,
   "metadata": {},
   "outputs": [],
   "source": [
    "%matplotlib inline\n",
    "%reload_ext autoreload\n",
    "%autoreload 2"
   ]
  },
  {
   "cell_type": "code",
   "execution_count": 2,
   "metadata": {},
   "outputs": [],
   "source": [
    "from config import *\n",
    "from fastai import *\n",
    "from fastai.text import *\n",
    "import pandas as pd\n",
    "from sklearn.model_selection import train_test_split"
   ]
  },
  {
   "cell_type": "code",
   "execution_count": 17,
   "metadata": {},
   "outputs": [],
   "source": [
    "ulmfit_conf = ULMFiTConfig()\n",
    "DATA_PATH = ulmfit_conf.sample_data_path\n",
    "PATH = ulmfit_conf.data_dir\n",
    "VAL_SIZE = 0.2\n",
    "BS = ulmfit_conf.bs"
   ]
  },
  {
   "cell_type": "markdown",
   "metadata": {},
   "source": [
    "## Preparing Data"
   ]
  },
  {
   "cell_type": "code",
   "execution_count": 10,
   "metadata": {},
   "outputs": [],
   "source": [
    "data = pd.read_csv(DATA_PATH, encoding='utf-8', sep='\\t',\n",
    "                   names=['qid', 'query', 'passage', 'label', 'pid'])"
   ]
  },
  {
   "cell_type": "code",
   "execution_count": 14,
   "metadata": {},
   "outputs": [
    {
     "data": {
      "text/html": [
       "<div>\n",
       "<style scoped>\n",
       "    .dataframe tbody tr th:only-of-type {\n",
       "        vertical-align: middle;\n",
       "    }\n",
       "\n",
       "    .dataframe tbody tr th {\n",
       "        vertical-align: top;\n",
       "    }\n",
       "\n",
       "    .dataframe thead th {\n",
       "        text-align: right;\n",
       "    }\n",
       "</style>\n",
       "<table border=\"1\" class=\"dataframe\">\n",
       "  <thead>\n",
       "    <tr style=\"text-align: right;\">\n",
       "      <th></th>\n",
       "      <th>qid</th>\n",
       "      <th>query</th>\n",
       "      <th>passage</th>\n",
       "      <th>label</th>\n",
       "      <th>pid</th>\n",
       "    </tr>\n",
       "  </thead>\n",
       "  <tbody>\n",
       "    <tr>\n",
       "      <th>0</th>\n",
       "      <td>qid</td>\n",
       "      <td>query</td>\n",
       "      <td>passage</td>\n",
       "      <td>label</td>\n",
       "      <td>pid</td>\n",
       "    </tr>\n",
       "    <tr>\n",
       "      <th>1</th>\n",
       "      <td>0</td>\n",
       "      <td>. what is a corporation?</td>\n",
       "      <td>A company is incorporated in a specific nation...</td>\n",
       "      <td>0</td>\n",
       "      <td>0</td>\n",
       "    </tr>\n",
       "    <tr>\n",
       "      <th>2</th>\n",
       "      <td>0</td>\n",
       "      <td>. what is a corporation?</td>\n",
       "      <td>Today, there is a growing community of more th...</td>\n",
       "      <td>0</td>\n",
       "      <td>1</td>\n",
       "    </tr>\n",
       "    <tr>\n",
       "      <th>3</th>\n",
       "      <td>0</td>\n",
       "      <td>. what is a corporation?</td>\n",
       "      <td>Corporation definition, an association of indi...</td>\n",
       "      <td>0</td>\n",
       "      <td>2</td>\n",
       "    </tr>\n",
       "    <tr>\n",
       "      <th>4</th>\n",
       "      <td>0</td>\n",
       "      <td>. what is a corporation?</td>\n",
       "      <td>Examples of corporation in a Sentence. 1  He w...</td>\n",
       "      <td>0</td>\n",
       "      <td>3</td>\n",
       "    </tr>\n",
       "  </tbody>\n",
       "</table>\n",
       "</div>"
      ],
      "text/plain": [
       "   qid                     query  \\\n",
       "0  qid                     query   \n",
       "1    0  . what is a corporation?   \n",
       "2    0  . what is a corporation?   \n",
       "3    0  . what is a corporation?   \n",
       "4    0  . what is a corporation?   \n",
       "\n",
       "                                             passage  label  pid  \n",
       "0                                            passage  label  pid  \n",
       "1  A company is incorporated in a specific nation...      0    0  \n",
       "2  Today, there is a growing community of more th...      0    1  \n",
       "3  Corporation definition, an association of indi...      0    2  \n",
       "4  Examples of corporation in a Sentence. 1  He w...      0    3  "
      ]
     },
     "execution_count": 14,
     "metadata": {},
     "output_type": "execute_result"
    }
   ],
   "source": [
    "data.head()"
   ]
  },
  {
   "cell_type": "code",
   "execution_count": 11,
   "metadata": {},
   "outputs": [
    {
     "data": {
      "text/plain": [
       "0        1962\n",
       "1         218\n",
       "label       1\n",
       "Name: label, dtype: int64"
      ]
     },
     "execution_count": 11,
     "metadata": {},
     "output_type": "execute_result"
    }
   ],
   "source": [
    "pd.value_counts(data['label'])"
   ]
  },
  {
   "cell_type": "code",
   "execution_count": 12,
   "metadata": {},
   "outputs": [],
   "source": [
    "train, test = train_test_split(data, random_state=ulmfit_conf.random_state,\n",
    "                              test_size=0.2)"
   ]
  },
  {
   "cell_type": "code",
   "execution_count": 13,
   "metadata": {},
   "outputs": [
    {
     "data": {
      "text/plain": [
       "0        1568\n",
       "1         175\n",
       "label       1\n",
       "Name: label, dtype: int64"
      ]
     },
     "execution_count": 13,
     "metadata": {},
     "output_type": "execute_result"
    }
   ],
   "source": [
    "pd.value_counts(train['label'])"
   ]
  },
  {
   "cell_type": "code",
   "execution_count": 39,
   "metadata": {},
   "outputs": [],
   "source": [
    "data_clas = (TextList.from_df(df=data, path=PATH, cols=['query', 'passage'])\n",
    "            .random_split_by_pct(VAL_SIZE)\n",
    "            .label_from_df(cols=3)\n",
    "            .databunch(bs=BS))\n",
    "             # .random_split_by_pct(0.2))"
   ]
  },
  {
   "cell_type": "code",
   "execution_count": 40,
   "metadata": {},
   "outputs": [
    {
     "data": {
      "text/html": [
       "<table>  <col width='90%'>  <col width='10%'>  <tr>\n",
       "    <th>text</th>\n",
       "    <th>target</th>\n",
       "  </tr>\n",
       "  <tr>\n",
       "    <th>xxbos why does a balloon float in air xxmaj article : xxmaj why do helium balloons float ? xxmaj print xxmaj if you have ever taken an air - filled ball into the pool you may have noticed that it xxunk up to the top of the water and floated . xxmaj that ’s because air is lighter than water . xxmaj even when you add the weight of the</th>\n",
       "    <th>0</th>\n",
       "  </tr>\n",
       "  <tr>\n",
       "    <th>xxbos why do you need 6 months validity on passport xxmaj some countries require that your passport be valid at least six months beyond the dates of your trip . xxmaj some xxunk will not allow you to board if this xxunk is not met . xxmaj consider the following scenario : a country requires that you have at least six months of validity on your passport . xxmaj you</th>\n",
       "    <th>1</th>\n",
       "  </tr>\n",
       "  <tr>\n",
       "    <th>xxbos why do i rattle in my throat xxmaj contents . 1 xxmaj rattling noises xxup and xxmaj throat symptoms : xxmaj causes of xxmaj all xxmaj symptoms . 2 xxmaj rattling noises xxup or xxmaj throat symptoms : xxunk causes . 3 xxmaj rattling noises : xxmaj causes . 4 xxmaj rattling noises : xxmaj introduction . 5 xxmaj throat symptoms : xxunk causes . 6 xxmaj throat symptoms</th>\n",
       "    <th>0</th>\n",
       "  </tr>\n",
       "  <tr>\n",
       "    <th>xxbos why does iron accumulate in the brain xxmaj the body ’s essential minerals just ca n’t catch a break this week . xxmaj on xxmaj monday , a study found that copper xxunk within the brain could promote the development of xxmaj alzheimer ’s disease . xxmaj now , another study suggests that iron is the actual offender . xxmaj iron , just like copper , is essential to</th>\n",
       "    <th>0</th>\n",
       "  </tr>\n",
       "  <tr>\n",
       "    <th>xxbos why do many substances dissolve in water , but others do not ? xxmaj whether a substance dissolves or not depends on the relative forces between the solvent particles and the solute particles as well as their temperature . xxmaj xxunk gases are also highly influenced by the pressure the gas is under when xxunk the solvent . a substance only dissolves if the attraction between the particles of</th>\n",
       "    <th>0</th>\n",
       "  </tr>\n",
       "</table>\n"
      ],
      "text/plain": [
       "<IPython.core.display.HTML object>"
      ]
     },
     "metadata": {},
     "output_type": "display_data"
    }
   ],
   "source": [
    "data_clas.show_batch()"
   ]
  },
  {
   "cell_type": "code",
   "execution_count": null,
   "metadata": {},
   "outputs": [],
   "source": []
  }
 ],
 "metadata": {
  "kernelspec": {
   "display_name": "Python 3",
   "language": "python",
   "name": "python3"
  },
  "language_info": {
   "codemirror_mode": {
    "name": "ipython",
    "version": 3
   },
   "file_extension": ".py",
   "mimetype": "text/x-python",
   "name": "python",
   "nbconvert_exporter": "python",
   "pygments_lexer": "ipython3",
   "version": "3.6.5"
  }
 },
 "nbformat": 4,
 "nbformat_minor": 2
}
