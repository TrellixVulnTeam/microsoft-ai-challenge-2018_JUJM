{
 "cells": [
  {
   "cell_type": "code",
   "execution_count": null,
   "metadata": {},
   "outputs": [],
   "source": []
  },
  {
   "cell_type": "markdown",
   "metadata": {},
   "source": [
    "## WideResnet 01"
   ]
  },
  {
   "cell_type": "code",
   "execution_count": 23,
   "metadata": {},
   "outputs": [],
   "source": [
    "from torch.utils.data import DataLoader\n",
    "from helpers import TextTransform, SearchEngineDataset, pad_collate\n",
    "from fastai.basic_train import Learner, LearnerCallback\n",
    "from fastai.basic_data import DataBunch\n",
    "from models import WideResNetEmbedding\n",
    "from config import WideResnetConfig\n",
    "from fastai.basic_data import DatasetType"
   ]
  },
  {
   "cell_type": "code",
   "execution_count": 44,
   "metadata": {},
   "outputs": [],
   "source": [
    "wrn_config = WideResnetConfig()\n",
    "TRN_PATH = wrn_config.trn_50_20_data_path\n",
    "VAL_PATH = wrn_config.val_50_20_data_path\n",
    "BS = wrn_config.bs\n",
    "TRN_WORKERS = wrn_config.trn_workers\n",
    "VAL_WORKERS = wrn_config.val_workers\n",
    "EMB_SIZE = wrn_config.emb_dim\n",
    "VOCAB_SIZE = wrn_config.vocab_size\n",
    "PRETRAINED_PATH = wrn_config.emb_pretrained\n",
    "EVAL_01 = wrn_config.eval_data_path_01"
   ]
  },
  {
   "cell_type": "code",
   "execution_count": 45,
   "metadata": {},
   "outputs": [
    {
     "data": {
      "text/plain": [
       "'/media/saqib/ni/Projects/Microsoft/AI_Challenge_18/data/eval1_unlabelled.tsv'"
      ]
     },
     "execution_count": 45,
     "metadata": {},
     "output_type": "execute_result"
    }
   ],
   "source": [
    "EVAL_01"
   ]
  },
  {
   "cell_type": "code",
   "execution_count": 46,
   "metadata": {},
   "outputs": [
    {
     "data": {
      "text/plain": [
       "'/media/saqib/ni/Projects/Microsoft/AI_Challenge_18/data/data_0.5_20_trn.tsv'"
      ]
     },
     "execution_count": 46,
     "metadata": {},
     "output_type": "execute_result"
    }
   ],
   "source": [
    "TRN_PATH"
   ]
  },
  {
   "cell_type": "code",
   "execution_count": 47,
   "metadata": {},
   "outputs": [],
   "source": [
    "text_transform = TextTransform('../../data/train_lm_data/itos.pkl')\n",
    "trn_dataset = SearchEngineDataset(TRN_PATH,\n",
    "                                    ['query', 'passage', 'label'], \n",
    "                                     transform=text_transform.text_to_ints)\n",
    "val_dataset = SearchEngineDataset(EVAL_01,\n",
    "                                    ['query', 'passage', 'label'], \n",
    "                                     transform=text_transform.text_to_ints)"
   ]
  },
  {
   "cell_type": "code",
   "execution_count": 48,
   "metadata": {},
   "outputs": [],
   "source": [
    "trn_dl = DataLoader(trn_dataset, batch_size=BS, \n",
    "                    shuffle=True, num_workers=TRN_WORKERS, collate_fn=pad_collate)\n",
    "val_dl = DataLoader(val_dataset, batch_size=BS, \n",
    "                    shuffle=False, num_workers=TRN_WORKERS, collate_fn=pad_collate)"
   ]
  },
  {
   "cell_type": "code",
   "execution_count": 49,
   "metadata": {},
   "outputs": [],
   "source": [
    "databunch = DataBunch(train_dl=trn_dl, valid_dl=val_dl, test_dl=tst_dl, collate_fn=pad_collate)"
   ]
  },
  {
   "cell_type": "code",
   "execution_count": 50,
   "metadata": {},
   "outputs": [],
   "source": [
    "model_name = 'wideresnet-01'\n",
    "learner = Learner(databunch, WideResNetEmbedding(vocab_size=VOCAB_SIZE, \n",
    "                                                 pretrained_wts_pth=PRETRAINED_PATH, \n",
    "                                                 emb_dim=EMB_SIZE,\n",
    "                                                 n_grps=wrn_config.n_grps, \n",
    "                                                 N=wrn_config.n_blocks,\n",
    "                                                 k=wrn_config.widening\n",
    "                                       ))"
   ]
  },
  {
   "cell_type": "code",
   "execution_count": 51,
   "metadata": {},
   "outputs": [],
   "source": [
    "learner = learner.load('wideresnet-01_3')"
   ]
  },
  {
   "cell_type": "code",
   "execution_count": null,
   "metadata": {},
   "outputs": [
    {
     "data": {
      "text/html": [
       "\n",
       "    <div>\n",
       "        <style>\n",
       "            /* Turns off some styling */\n",
       "            progress {\n",
       "                /* gets rid of default border in Firefox and Opera. */\n",
       "                border: none;\n",
       "                /* Needs to be in here for Safari polyfill so background images work as expected. */\n",
       "                background-size: auto;\n",
       "            }\n",
       "            .progress-bar-interrupted, .progress-bar-interrupted::-webkit-progress-bar {\n",
       "                background: #F44336;\n",
       "            }\n",
       "        </style>\n",
       "      <progress value='3792' class='' max='4341', style='width:300px; height:20px; vertical-align: middle;'></progress>\n",
       "      87.35% [3792/4341 06:14<00:54]\n",
       "    </div>\n",
       "    "
      ],
      "text/plain": [
       "<IPython.core.display.HTML object>"
      ]
     },
     "metadata": {},
     "output_type": "display_data"
    }
   ],
   "source": [
    "preds = learner.get_preds()"
   ]
  },
  {
   "cell_type": "code",
   "execution_count": 42,
   "metadata": {},
   "outputs": [
    {
     "data": {
      "text/plain": [
       "tensor([[1.2402],\n",
       "        [1.2402],\n",
       "        [1.2402],\n",
       "        [1.2402],\n",
       "        [1.2402],\n",
       "        [1.2402],\n",
       "        [1.2402],\n",
       "        [1.2402],\n",
       "        [1.2402],\n",
       "        [1.2402],\n",
       "        [1.2402],\n",
       "        [1.2402],\n",
       "        [1.2402],\n",
       "        [1.2402],\n",
       "        [1.2402],\n",
       "        [1.2402],\n",
       "        [1.2402],\n",
       "        [1.2402],\n",
       "        [1.2402],\n",
       "        [1.2402],\n",
       "        [1.2402],\n",
       "        [1.2402],\n",
       "        [1.2402],\n",
       "        [1.2402],\n",
       "        [1.2402],\n",
       "        [1.2402],\n",
       "        [1.2402],\n",
       "        [1.2402],\n",
       "        [1.2402],\n",
       "        [1.2402],\n",
       "        [1.2402],\n",
       "        [1.2402],\n",
       "        [1.2402],\n",
       "        [1.2402],\n",
       "        [1.2402],\n",
       "        [1.2402],\n",
       "        [1.2402],\n",
       "        [1.2402],\n",
       "        [1.2402],\n",
       "        [1.2402],\n",
       "        [1.2402],\n",
       "        [1.2402],\n",
       "        [1.2402],\n",
       "        [1.2402],\n",
       "        [1.2402],\n",
       "        [1.2402],\n",
       "        [1.2402],\n",
       "        [1.2402],\n",
       "        [1.2402],\n",
       "        [1.2402],\n",
       "        [1.2402],\n",
       "        [1.2402],\n",
       "        [1.2402],\n",
       "        [1.2402],\n",
       "        [1.2402],\n",
       "        [1.2402],\n",
       "        [1.2402],\n",
       "        [1.2402],\n",
       "        [1.2402],\n",
       "        [1.2402],\n",
       "        [1.2402],\n",
       "        [1.2402],\n",
       "        [1.2402],\n",
       "        [1.2402],\n",
       "        [1.2402],\n",
       "        [1.2402],\n",
       "        [1.2402],\n",
       "        [1.2402],\n",
       "        [1.2402],\n",
       "        [1.2402],\n",
       "        [1.2402],\n",
       "        [1.2402],\n",
       "        [1.2402],\n",
       "        [1.2402],\n",
       "        [1.2402],\n",
       "        [1.2402],\n",
       "        [1.2402],\n",
       "        [1.2402],\n",
       "        [1.2402],\n",
       "        [1.2402],\n",
       "        [1.2402],\n",
       "        [1.2402],\n",
       "        [1.2402],\n",
       "        [1.2402],\n",
       "        [1.2402],\n",
       "        [1.2402],\n",
       "        [1.2402],\n",
       "        [1.2402],\n",
       "        [1.2402],\n",
       "        [1.2402],\n",
       "        [1.2402],\n",
       "        [1.2402],\n",
       "        [1.2402],\n",
       "        [1.2402],\n",
       "        [1.2402],\n",
       "        [1.2402],\n",
       "        [1.2402],\n",
       "        [1.2402],\n",
       "        [1.2402],\n",
       "        [1.2402]])"
      ]
     },
     "execution_count": 42,
     "metadata": {},
     "output_type": "execute_result"
    }
   ],
   "source": [
    "preds[0][200:300]"
   ]
  },
  {
   "cell_type": "code",
   "execution_count": null,
   "metadata": {},
   "outputs": [],
   "source": []
  }
 ],
 "metadata": {
  "kernelspec": {
   "display_name": "Python 3",
   "language": "python",
   "name": "python3"
  },
  "language_info": {
   "codemirror_mode": {
    "name": "ipython",
    "version": 3
   },
   "file_extension": ".py",
   "mimetype": "text/x-python",
   "name": "python",
   "nbconvert_exporter": "python",
   "pygments_lexer": "ipython3",
   "version": "3.6.5"
  }
 },
 "nbformat": 4,
 "nbformat_minor": 2
}
